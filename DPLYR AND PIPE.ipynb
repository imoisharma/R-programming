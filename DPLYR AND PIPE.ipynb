{
 "cells": [
  {
   "cell_type": "code",
   "execution_count": 1,
   "metadata": {},
   "outputs": [],
   "source": [
    "# the PIPE operator"
   ]
  },
  {
   "cell_type": "code",
   "execution_count": 2,
   "metadata": {},
   "outputs": [],
   "source": [
    "data = read.csv(file.choose(),header = T)"
   ]
  },
  {
   "cell_type": "code",
   "execution_count": 3,
   "metadata": {},
   "outputs": [
    {
     "data": {
      "text/html": [
       "<ol class=list-inline>\n",
       "\t<li>846404</li>\n",
       "\t<li>13</li>\n",
       "</ol>\n"
      ],
      "text/latex": [
       "\\begin{enumerate*}\n",
       "\\item 846404\n",
       "\\item 13\n",
       "\\end{enumerate*}\n"
      ],
      "text/markdown": [
       "1. 846404\n",
       "2. 13\n",
       "\n",
       "\n"
      ],
      "text/plain": [
       "[1] 846404     13"
      ]
     },
     "metadata": {},
     "output_type": "display_data"
    }
   ],
   "source": [
    "dim(data) #dimensions of the dataset"
   ]
  },
  {
   "cell_type": "code",
   "execution_count": 4,
   "metadata": {},
   "outputs": [
    {
     "data": {
      "text/html": [
       "<ol class=list-inline>\n",
       "\t<li>'SYMBOL'</li>\n",
       "\t<li>'SERIES'</li>\n",
       "\t<li>'OPEN'</li>\n",
       "\t<li>'HIGH'</li>\n",
       "\t<li>'LOW'</li>\n",
       "\t<li>'CLOSE'</li>\n",
       "\t<li>'LAST'</li>\n",
       "\t<li>'PREVCLOSE'</li>\n",
       "\t<li>'TOTTRDQTY'</li>\n",
       "\t<li>'TOTTRDVAL'</li>\n",
       "\t<li>'TIMESTAMP'</li>\n",
       "\t<li>'TOTALTRADES'</li>\n",
       "\t<li>'ISIN'</li>\n",
       "</ol>\n"
      ],
      "text/latex": [
       "\\begin{enumerate*}\n",
       "\\item 'SYMBOL'\n",
       "\\item 'SERIES'\n",
       "\\item 'OPEN'\n",
       "\\item 'HIGH'\n",
       "\\item 'LOW'\n",
       "\\item 'CLOSE'\n",
       "\\item 'LAST'\n",
       "\\item 'PREVCLOSE'\n",
       "\\item 'TOTTRDQTY'\n",
       "\\item 'TOTTRDVAL'\n",
       "\\item 'TIMESTAMP'\n",
       "\\item 'TOTALTRADES'\n",
       "\\item 'ISIN'\n",
       "\\end{enumerate*}\n"
      ],
      "text/markdown": [
       "1. 'SYMBOL'\n",
       "2. 'SERIES'\n",
       "3. 'OPEN'\n",
       "4. 'HIGH'\n",
       "5. 'LOW'\n",
       "6. 'CLOSE'\n",
       "7. 'LAST'\n",
       "8. 'PREVCLOSE'\n",
       "9. 'TOTTRDQTY'\n",
       "10. 'TOTTRDVAL'\n",
       "11. 'TIMESTAMP'\n",
       "12. 'TOTALTRADES'\n",
       "13. 'ISIN'\n",
       "\n",
       "\n"
      ],
      "text/plain": [
       " [1] \"SYMBOL\"      \"SERIES\"      \"OPEN\"        \"HIGH\"        \"LOW\"        \n",
       " [6] \"CLOSE\"       \"LAST\"        \"PREVCLOSE\"   \"TOTTRDQTY\"   \"TOTTRDVAL\"  \n",
       "[11] \"TIMESTAMP\"   \"TOTALTRADES\" \"ISIN\"       "
      ]
     },
     "metadata": {},
     "output_type": "display_data"
    }
   ],
   "source": [
    "names(data) # names of the column"
   ]
  },
  {
   "cell_type": "code",
   "execution_count": 5,
   "metadata": {},
   "outputs": [
    {
     "name": "stderr",
     "output_type": "stream",
     "text": [
      "\n",
      "Attaching package: 'dplyr'\n",
      "\n",
      "The following objects are masked from 'package:stats':\n",
      "\n",
      "    filter, lag\n",
      "\n",
      "The following objects are masked from 'package:base':\n",
      "\n",
      "    intersect, setdiff, setequal, union\n",
      "\n"
     ]
    }
   ],
   "source": [
    "library(dplyr)"
   ]
  },
  {
   "cell_type": "code",
   "execution_count": 6,
   "metadata": {},
   "outputs": [
    {
     "data": {
      "text/html": [
       "<table>\n",
       "<thead><tr><th scope=col>average</th></tr></thead>\n",
       "<tbody>\n",
       "\t<tr><td>561.2588</td></tr>\n",
       "</tbody>\n",
       "</table>\n"
      ],
      "text/latex": [
       "\\begin{tabular}{r|l}\n",
       " average\\\\\n",
       "\\hline\n",
       "\t 561.2588\\\\\n",
       "\\end{tabular}\n"
      ],
      "text/markdown": [
       "\n",
       "average | \n",
       "|---|\n",
       "| 561.2588 | \n",
       "\n",
       "\n"
      ],
      "text/plain": [
       "  average \n",
       "1 561.2588"
      ]
     },
     "metadata": {},
     "output_type": "display_data"
    }
   ],
   "source": [
    "summarise(data, average = mean(data$OPEN))"
   ]
  },
  {
   "cell_type": "code",
   "execution_count": 7,
   "metadata": {},
   "outputs": [
    {
     "data": {
      "text/html": [
       "<table>\n",
       "<thead><tr><th scope=col>middle_value</th></tr></thead>\n",
       "<tbody>\n",
       "\t<tr><td>139.2</td></tr>\n",
       "</tbody>\n",
       "</table>\n"
      ],
      "text/latex": [
       "\\begin{tabular}{r|l}\n",
       " middle\\_value\\\\\n",
       "\\hline\n",
       "\t 139.2\\\\\n",
       "\\end{tabular}\n"
      ],
      "text/markdown": [
       "\n",
       "middle_value | \n",
       "|---|\n",
       "| 139.2 | \n",
       "\n",
       "\n"
      ],
      "text/plain": [
       "  middle_value\n",
       "1 139.2       "
      ]
     },
     "metadata": {},
     "output_type": "display_data"
    }
   ],
   "source": [
    "summarise(data, middle_value = median(data$OPEN))"
   ]
  },
  {
   "cell_type": "code",
   "execution_count": 8,
   "metadata": {},
   "outputs": [
    {
     "data": {
      "text/html": [
       "<table>\n",
       "<thead><tr><th scope=col>first_val</th></tr></thead>\n",
       "<tbody>\n",
       "\t<tr><td>37.8</td></tr>\n",
       "</tbody>\n",
       "</table>\n"
      ],
      "text/latex": [
       "\\begin{tabular}{r|l}\n",
       " first\\_val\\\\\n",
       "\\hline\n",
       "\t 37.8\\\\\n",
       "\\end{tabular}\n"
      ],
      "text/markdown": [
       "\n",
       "first_val | \n",
       "|---|\n",
       "| 37.8 | \n",
       "\n",
       "\n"
      ],
      "text/plain": [
       "  first_val\n",
       "1 37.8     "
      ]
     },
     "metadata": {},
     "output_type": "display_data"
    }
   ],
   "source": [
    "summarise(data, first_val = first(data$OPEN))"
   ]
  },
  {
   "cell_type": "code",
   "execution_count": 9,
   "metadata": {},
   "outputs": [
    {
     "data": {
      "text/html": [
       "<table>\n",
       "<thead><tr><th scope=col>last_val</th></tr></thead>\n",
       "<tbody>\n",
       "\t<tr><td>4.3</td></tr>\n",
       "</tbody>\n",
       "</table>\n"
      ],
      "text/latex": [
       "\\begin{tabular}{r|l}\n",
       " last\\_val\\\\\n",
       "\\hline\n",
       "\t 4.3\\\\\n",
       "\\end{tabular}\n"
      ],
      "text/markdown": [
       "\n",
       "last_val | \n",
       "|---|\n",
       "| 4.3 | \n",
       "\n",
       "\n"
      ],
      "text/plain": [
       "  last_val\n",
       "1 4.3     "
      ]
     },
     "metadata": {},
     "output_type": "display_data"
    }
   ],
   "source": [
    "summarise(data, last_val = last(data$OPEN))"
   ]
  },
  {
   "cell_type": "code",
   "execution_count": 10,
   "metadata": {},
   "outputs": [
    {
     "data": {
      "text/html": [
       "<table>\n",
       "<thead><tr><th scope=col>variance</th></tr></thead>\n",
       "<tbody>\n",
       "\t<tr><td>4023076</td></tr>\n",
       "</tbody>\n",
       "</table>\n"
      ],
      "text/latex": [
       "\\begin{tabular}{r|l}\n",
       " variance\\\\\n",
       "\\hline\n",
       "\t 4023076\\\\\n",
       "\\end{tabular}\n"
      ],
      "text/markdown": [
       "\n",
       "variance | \n",
       "|---|\n",
       "| 4023076 | \n",
       "\n",
       "\n"
      ],
      "text/plain": [
       "  variance\n",
       "1 4023076 "
      ]
     },
     "metadata": {},
     "output_type": "display_data"
    }
   ],
   "source": [
    "summarise(data, variance = var(data$OPEN))"
   ]
  },
  {
   "cell_type": "code",
   "execution_count": 11,
   "metadata": {},
   "outputs": [
    {
     "data": {
      "text/html": [
       "<table>\n",
       "<thead><tr><th scope=col>std_dev</th></tr></thead>\n",
       "<tbody>\n",
       "\t<tr><td>2005.761</td></tr>\n",
       "</tbody>\n",
       "</table>\n"
      ],
      "text/latex": [
       "\\begin{tabular}{r|l}\n",
       " std\\_dev\\\\\n",
       "\\hline\n",
       "\t 2005.761\\\\\n",
       "\\end{tabular}\n"
      ],
      "text/markdown": [
       "\n",
       "std_dev | \n",
       "|---|\n",
       "| 2005.761 | \n",
       "\n",
       "\n"
      ],
      "text/plain": [
       "  std_dev \n",
       "1 2005.761"
      ]
     },
     "metadata": {},
     "output_type": "display_data"
    }
   ],
   "source": [
    "summarise(data, std_dev = sd(data$OPEN))"
   ]
  },
  {
   "cell_type": "code",
   "execution_count": 12,
   "metadata": {},
   "outputs": [
    {
     "data": {
      "text/html": [
       "<table>\n",
       "<thead><tr><th scope=col>n_distinct</th></tr></thead>\n",
       "<tbody>\n",
       "\t<tr><td>58241</td></tr>\n",
       "</tbody>\n",
       "</table>\n"
      ],
      "text/latex": [
       "\\begin{tabular}{r|l}\n",
       " n\\_distinct\\\\\n",
       "\\hline\n",
       "\t 58241\\\\\n",
       "\\end{tabular}\n"
      ],
      "text/markdown": [
       "\n",
       "n_distinct | \n",
       "|---|\n",
       "| 58241 | \n",
       "\n",
       "\n"
      ],
      "text/plain": [
       "  n_distinct\n",
       "1 58241     "
      ]
     },
     "metadata": {},
     "output_type": "display_data"
    }
   ],
   "source": [
    "summarise(data, n_distinct = n_distinct(data$OPEN))"
   ]
  },
  {
   "cell_type": "code",
   "execution_count": 13,
   "metadata": {},
   "outputs": [
    {
     "data": {
      "text/html": [
       "<table>\n",
       "<thead><tr><th scope=col>nth_value</th></tr></thead>\n",
       "<tbody>\n",
       "\t<tr><td>546.1</td></tr>\n",
       "</tbody>\n",
       "</table>\n"
      ],
      "text/latex": [
       "\\begin{tabular}{r|l}\n",
       " nth\\_value\\\\\n",
       "\\hline\n",
       "\t 546.1\\\\\n",
       "\\end{tabular}\n"
      ],
      "text/markdown": [
       "\n",
       "nth_value | \n",
       "|---|\n",
       "| 546.1 | \n",
       "\n",
       "\n"
      ],
      "text/plain": [
       "  nth_value\n",
       "1 546.1    "
      ]
     },
     "metadata": {},
     "output_type": "display_data"
    }
   ],
   "source": [
    "summarise(data, nth_value = nth(data$OPEN,5))"
   ]
  },
  {
   "cell_type": "code",
   "execution_count": 14,
   "metadata": {},
   "outputs": [],
   "source": [
    "# Pipe operator"
   ]
  },
  {
   "cell_type": "code",
   "execution_count": 15,
   "metadata": {},
   "outputs": [
    {
     "data": {
      "text/html": [
       "<table>\n",
       "<thead><tr><th></th><th scope=col>OPEN</th><th scope=col>HIGH</th><th scope=col>CLOSE</th></tr></thead>\n",
       "<tbody>\n",
       "\t<tr><th scope=row>608018</th><td>  28.4 </td><td>  28.75</td><td>  28.30</td></tr>\n",
       "\t<tr><th scope=row>670133</th><td> 438.0 </td><td> 448.40</td><td> 433.15</td></tr>\n",
       "\t<tr><th scope=row>409347</th><td>   3.7 </td><td>   3.70</td><td>   3.70</td></tr>\n",
       "\t<tr><th scope=row>750293</th><td>  10.4 </td><td>  10.40</td><td>  10.40</td></tr>\n",
       "\t<tr><th scope=row>366129</th><td>1043.2 </td><td>1046.50</td><td>1026.55</td></tr>\n",
       "</tbody>\n",
       "</table>\n"
      ],
      "text/latex": [
       "\\begin{tabular}{r|lll}\n",
       "  & OPEN & HIGH & CLOSE\\\\\n",
       "\\hline\n",
       "\t608018 &   28.4  &   28.75 &   28.30\\\\\n",
       "\t670133 &  438.0  &  448.40 &  433.15\\\\\n",
       "\t409347 &    3.7  &    3.70 &    3.70\\\\\n",
       "\t750293 &   10.4  &   10.40 &   10.40\\\\\n",
       "\t366129 & 1043.2  & 1046.50 & 1026.55\\\\\n",
       "\\end{tabular}\n"
      ],
      "text/markdown": [
       "\n",
       "| <!--/--> | OPEN | HIGH | CLOSE | \n",
       "|---|---|---|---|---|\n",
       "| 608018 |   28.4  |   28.75 |   28.30 | \n",
       "| 670133 |  438.0  |  448.40 |  433.15 | \n",
       "| 409347 |    3.7  |    3.70 |    3.70 | \n",
       "| 750293 |   10.4  |   10.40 |   10.40 | \n",
       "| 366129 | 1043.2  | 1046.50 | 1026.55 | \n",
       "\n",
       "\n"
      ],
      "text/plain": [
       "       OPEN   HIGH    CLOSE  \n",
       "608018   28.4   28.75   28.30\n",
       "670133  438.0  448.40  433.15\n",
       "409347    3.7    3.70    3.70\n",
       "750293   10.4   10.40   10.40\n",
       "366129 1043.2 1046.50 1026.55"
      ]
     },
     "metadata": {},
     "output_type": "display_data"
    }
   ],
   "source": [
    " data %>% select(OPEN,HIGH, CLOSE)%>% sample_n(5) # using select function"
   ]
  },
  {
   "cell_type": "code",
   "execution_count": 16,
   "metadata": {},
   "outputs": [
    {
     "data": {
      "text/html": [
       "<table>\n",
       "<thead><tr><th></th><th scope=col>SYMBOL</th><th scope=col>SERIES</th><th scope=col>OPEN</th><th scope=col>HIGH</th><th scope=col>LOW</th><th scope=col>CLOSE</th><th scope=col>LAST</th><th scope=col>PREVCLOSE</th><th scope=col>TOTTRDQTY</th><th scope=col>TOTTRDVAL</th><th scope=col>TIMESTAMP</th><th scope=col>TOTALTRADES</th><th scope=col>ISIN</th></tr></thead>\n",
       "<tbody>\n",
       "\t<tr><th scope=row>239079</th><td>LINCPEN     </td><td>EQ          </td><td> 280.00     </td><td> 284.40     </td><td> 277.40     </td><td> 279.65     </td><td> 278.00     </td><td> 280.50     </td><td>  1869      </td><td>    524578.7</td><td>2017-07-20  </td><td>   61       </td><td>INE802B01019</td></tr>\n",
       "\t<tr><th scope=row>182269</th><td>RAJTV       </td><td>EQ          </td><td>  61.30     </td><td>  61.50     </td><td>  59.35     </td><td>  60.10     </td><td>  60.20     </td><td>  61.80     </td><td> 29067      </td><td>   1749865.9</td><td>2017-05-23  </td><td>  254       </td><td>INE952H01027</td></tr>\n",
       "\t<tr><th scope=row>426161</th><td>IFBAGRO     </td><td>EQ          </td><td> 375.55     </td><td> 391.00     </td><td> 375.55     </td><td> 383.70     </td><td> 378.25     </td><td> 382.60     </td><td>  2285      </td><td>    879492.0</td><td>2016-09-12  </td><td>  108       </td><td>INE076C01018</td></tr>\n",
       "\t<tr><th scope=row>456263</th><td>SUPREMEINF  </td><td>EQ          </td><td>  89.35     </td><td>  89.35     </td><td>  85.25     </td><td>  87.40     </td><td>  86.70     </td><td>  88.60     </td><td> 22108      </td><td>   1939715.6</td><td>2016-11-02  </td><td>  445       </td><td>INE550H01011</td></tr>\n",
       "\t<tr><th scope=row>104530</th><td>HEROMOTOCO  </td><td>EQ          </td><td>3953.00     </td><td>4012.50     </td><td>3953.00     </td><td>3982.90     </td><td>3980.00     </td><td>3950.65     </td><td>256960      </td><td>1026029688.5</td><td>2017-09-07  </td><td>28512       </td><td>INE158A01026</td></tr>\n",
       "</tbody>\n",
       "</table>\n"
      ],
      "text/latex": [
       "\\begin{tabular}{r|lllllllllllll}\n",
       "  & SYMBOL & SERIES & OPEN & HIGH & LOW & CLOSE & LAST & PREVCLOSE & TOTTRDQTY & TOTTRDVAL & TIMESTAMP & TOTALTRADES & ISIN\\\\\n",
       "\\hline\n",
       "\t239079 & LINCPEN      & EQ           &  280.00      &  284.40      &  277.40      &  279.65      &  278.00      &  280.50      &   1869       &     524578.7 & 2017-07-20   &    61        & INE802B01019\\\\\n",
       "\t182269 & RAJTV        & EQ           &   61.30      &   61.50      &   59.35      &   60.10      &   60.20      &   61.80      &  29067       &    1749865.9 & 2017-05-23   &   254        & INE952H01027\\\\\n",
       "\t426161 & IFBAGRO      & EQ           &  375.55      &  391.00      &  375.55      &  383.70      &  378.25      &  382.60      &   2285       &     879492.0 & 2016-09-12   &   108        & INE076C01018\\\\\n",
       "\t456263 & SUPREMEINF   & EQ           &   89.35      &   89.35      &   85.25      &   87.40      &   86.70      &   88.60      &  22108       &    1939715.6 & 2016-11-02   &   445        & INE550H01011\\\\\n",
       "\t104530 & HEROMOTOCO   & EQ           & 3953.00      & 4012.50      & 3953.00      & 3982.90      & 3980.00      & 3950.65      & 256960       & 1026029688.5 & 2017-09-07   & 28512        & INE158A01026\\\\\n",
       "\\end{tabular}\n"
      ],
      "text/markdown": [
       "\n",
       "| <!--/--> | SYMBOL | SERIES | OPEN | HIGH | LOW | CLOSE | LAST | PREVCLOSE | TOTTRDQTY | TOTTRDVAL | TIMESTAMP | TOTALTRADES | ISIN | \n",
       "|---|---|---|---|---|\n",
       "| 239079 | LINCPEN      | EQ           |  280.00      |  284.40      |  277.40      |  279.65      |  278.00      |  280.50      |   1869       |     524578.7 | 2017-07-20   |    61        | INE802B01019 | \n",
       "| 182269 | RAJTV        | EQ           |   61.30      |   61.50      |   59.35      |   60.10      |   60.20      |   61.80      |  29067       |    1749865.9 | 2017-05-23   |   254        | INE952H01027 | \n",
       "| 426161 | IFBAGRO      | EQ           |  375.55      |  391.00      |  375.55      |  383.70      |  378.25      |  382.60      |   2285       |     879492.0 | 2016-09-12   |   108        | INE076C01018 | \n",
       "| 456263 | SUPREMEINF   | EQ           |   89.35      |   89.35      |   85.25      |   87.40      |   86.70      |   88.60      |  22108       |    1939715.6 | 2016-11-02   |   445        | INE550H01011 | \n",
       "| 104530 | HEROMOTOCO   | EQ           | 3953.00      | 4012.50      | 3953.00      | 3982.90      | 3980.00      | 3950.65      | 256960       | 1026029688.5 | 2017-09-07   | 28512        | INE158A01026 | \n",
       "\n",
       "\n"
      ],
      "text/plain": [
       "       SYMBOL     SERIES OPEN    HIGH    LOW     CLOSE   LAST    PREVCLOSE\n",
       "239079 LINCPEN    EQ      280.00  284.40  277.40  279.65  278.00  280.50  \n",
       "182269 RAJTV      EQ       61.30   61.50   59.35   60.10   60.20   61.80  \n",
       "426161 IFBAGRO    EQ      375.55  391.00  375.55  383.70  378.25  382.60  \n",
       "456263 SUPREMEINF EQ       89.35   89.35   85.25   87.40   86.70   88.60  \n",
       "104530 HEROMOTOCO EQ     3953.00 4012.50 3953.00 3982.90 3980.00 3950.65  \n",
       "       TOTTRDQTY TOTTRDVAL    TIMESTAMP  TOTALTRADES ISIN        \n",
       "239079   1869        524578.7 2017-07-20    61       INE802B01019\n",
       "182269  29067       1749865.9 2017-05-23   254       INE952H01027\n",
       "426161   2285        879492.0 2016-09-12   108       INE076C01018\n",
       "456263  22108       1939715.6 2016-11-02   445       INE550H01011\n",
       "104530 256960    1026029688.5 2017-09-07 28512       INE158A01026"
      ]
     },
     "metadata": {},
     "output_type": "display_data"
    }
   ],
   "source": [
    "data %>% filter(OPEN >50) %>% sample_n(5) # using filter function"
   ]
  },
  {
   "cell_type": "code",
   "execution_count": 17,
   "metadata": {},
   "outputs": [
    {
     "data": {
      "text/html": [
       "<table>\n",
       "<thead><tr><th></th><th scope=col>Final</th><th scope=col>SYMBOL</th><th scope=col>SERIES</th><th scope=col>OPEN</th><th scope=col>HIGH</th><th scope=col>LOW</th><th scope=col>CLOSE</th><th scope=col>LAST</th><th scope=col>PREVCLOSE</th><th scope=col>TOTTRDQTY</th><th scope=col>TOTTRDVAL</th><th scope=col>TIMESTAMP</th><th scope=col>TOTALTRADES</th><th scope=col>ISIN</th></tr></thead>\n",
       "<tbody>\n",
       "\t<tr><th scope=row>120890</th><td>294.40      </td><td>KRIDHANINF  </td><td>EQ          </td><td>73.90       </td><td>73.95       </td><td>72.60       </td><td>73.95       </td><td>73.95       </td><td>70.45       </td><td>1015500     </td><td>74952339.5  </td><td>2017-07-03  </td><td>3640        </td><td>INE524L01026</td></tr>\n",
       "\t<tr><th scope=row>512270</th><td> 57.60      </td><td>HINDSYNTEX  </td><td>EQ          </td><td>14.10       </td><td>14.75       </td><td>14.00       </td><td>14.75       </td><td>14.75       </td><td>14.45       </td><td>    350     </td><td>    4990.0  </td><td>2016-06-20  </td><td>   5        </td><td>INE155B01012</td></tr>\n",
       "\t<tr><th scope=row>732798</th><td> 71.65      </td><td>NATNLSTEEL  </td><td>BE          </td><td>18.20       </td><td>18.20       </td><td>17.60       </td><td>17.65       </td><td>17.65       </td><td>17.65       </td><td>   2619     </td><td>   46858.2  </td><td>2016-12-06  </td><td>  20        </td><td>INE088B01015</td></tr>\n",
       "\t<tr><th scope=row>46085</th><td> 54.60      </td><td>CUBEXTUB    </td><td>BE          </td><td>13.65       </td><td>13.65       </td><td>13.65       </td><td>13.65       </td><td>13.65       </td><td>13.65       </td><td>     10     </td><td>     136.5  </td><td>2017-05-15  </td><td>   2        </td><td>INE144D01012</td></tr>\n",
       "\t<tr><th scope=row>772991</th><td> 17.90      </td><td>SUNDARAM    </td><td>EQ          </td><td> 4.55       </td><td> 4.70       </td><td> 4.30       </td><td> 4.35       </td><td> 4.35       </td><td> 4.50       </td><td> 734029     </td><td> 3295513.1  </td><td>2016-07-26  </td><td> 448        </td><td>INE108E01023</td></tr>\n",
       "</tbody>\n",
       "</table>\n"
      ],
      "text/latex": [
       "\\begin{tabular}{r|llllllllllllll}\n",
       "  & Final & SYMBOL & SERIES & OPEN & HIGH & LOW & CLOSE & LAST & PREVCLOSE & TOTTRDQTY & TOTTRDVAL & TIMESTAMP & TOTALTRADES & ISIN\\\\\n",
       "\\hline\n",
       "\t120890 & 294.40       & KRIDHANINF   & EQ           & 73.90        & 73.95        & 72.60        & 73.95        & 73.95        & 70.45        & 1015500      & 74952339.5   & 2017-07-03   & 3640         & INE524L01026\\\\\n",
       "\t512270 &  57.60       & HINDSYNTEX   & EQ           & 14.10        & 14.75        & 14.00        & 14.75        & 14.75        & 14.45        &     350      &     4990.0   & 2016-06-20   &    5         & INE155B01012\\\\\n",
       "\t732798 &  71.65       & NATNLSTEEL   & BE           & 18.20        & 18.20        & 17.60        & 17.65        & 17.65        & 17.65        &    2619      &    46858.2   & 2016-12-06   &   20         & INE088B01015\\\\\n",
       "\t46085 &  54.60       & CUBEXTUB     & BE           & 13.65        & 13.65        & 13.65        & 13.65        & 13.65        & 13.65        &      10      &      136.5   & 2017-05-15   &    2         & INE144D01012\\\\\n",
       "\t772991 &  17.90       & SUNDARAM     & EQ           &  4.55        &  4.70        &  4.30        &  4.35        &  4.35        &  4.50        &  734029      &  3295513.1   & 2016-07-26   &  448         & INE108E01023\\\\\n",
       "\\end{tabular}\n"
      ],
      "text/markdown": [
       "\n",
       "| <!--/--> | Final | SYMBOL | SERIES | OPEN | HIGH | LOW | CLOSE | LAST | PREVCLOSE | TOTTRDQTY | TOTTRDVAL | TIMESTAMP | TOTALTRADES | ISIN | \n",
       "|---|---|---|---|---|\n",
       "| 120890 | 294.40       | KRIDHANINF   | EQ           | 73.90        | 73.95        | 72.60        | 73.95        | 73.95        | 70.45        | 1015500      | 74952339.5   | 2017-07-03   | 3640         | INE524L01026 | \n",
       "| 512270 |  57.60       | HINDSYNTEX   | EQ           | 14.10        | 14.75        | 14.00        | 14.75        | 14.75        | 14.45        |     350      |     4990.0   | 2016-06-20   |    5         | INE155B01012 | \n",
       "| 732798 |  71.65       | NATNLSTEEL   | BE           | 18.20        | 18.20        | 17.60        | 17.65        | 17.65        | 17.65        |    2619      |    46858.2   | 2016-12-06   |   20         | INE088B01015 | \n",
       "| 46085 |  54.60       | CUBEXTUB     | BE           | 13.65        | 13.65        | 13.65        | 13.65        | 13.65        | 13.65        |      10      |      136.5   | 2017-05-15   |    2         | INE144D01012 | \n",
       "| 772991 |  17.90       | SUNDARAM     | EQ           |  4.55        |  4.70        |  4.30        |  4.35        |  4.35        |  4.50        |  734029      |  3295513.1   | 2016-07-26   |  448         | INE108E01023 | \n",
       "\n",
       "\n"
      ],
      "text/plain": [
       "       Final  SYMBOL     SERIES OPEN  HIGH  LOW   CLOSE LAST  PREVCLOSE\n",
       "120890 294.40 KRIDHANINF EQ     73.90 73.95 72.60 73.95 73.95 70.45    \n",
       "512270  57.60 HINDSYNTEX EQ     14.10 14.75 14.00 14.75 14.75 14.45    \n",
       "732798  71.65 NATNLSTEEL BE     18.20 18.20 17.60 17.65 17.65 17.65    \n",
       "46085   54.60 CUBEXTUB   BE     13.65 13.65 13.65 13.65 13.65 13.65    \n",
       "772991  17.90 SUNDARAM   EQ      4.55  4.70  4.30  4.35  4.35  4.50    \n",
       "       TOTTRDQTY TOTTRDVAL  TIMESTAMP  TOTALTRADES ISIN        \n",
       "120890 1015500   74952339.5 2017-07-03 3640        INE524L01026\n",
       "512270     350       4990.0 2016-06-20    5        INE155B01012\n",
       "732798    2619      46858.2 2016-12-06   20        INE088B01015\n",
       "46085       10        136.5 2017-05-15    2        INE144D01012\n",
       "772991  734029    3295513.1 2016-07-26  448        INE108E01023"
      ]
     },
     "metadata": {},
     "output_type": "display_data"
    }
   ],
   "source": [
    "data %>% mutate(Final = OPEN + HIGH + LOW + CLOSE) %>% select(Final, everything()) %>% sample_n(5) # using mutate function"
   ]
  },
  {
   "cell_type": "code",
   "execution_count": 18,
   "metadata": {},
   "outputs": [
    {
     "data": {
      "text/html": [
       "<table>\n",
       "<thead><tr><th scope=col>SYMBOL</th><th scope=col>SERIES</th><th scope=col>OPEN</th><th scope=col>HIGH</th><th scope=col>LOW</th><th scope=col>CLOSE</th><th scope=col>LAST</th><th scope=col>PREVCLOSE</th><th scope=col>TOTTRDQTY</th><th scope=col>TOTTRDVAL</th><th scope=col>TIMESTAMP</th><th scope=col>TOTALTRADES</th><th scope=col>ISIN</th><th scope=col>data$SYMBOL</th></tr></thead>\n",
       "<tbody>\n",
       "\t<tr><td>PEL         </td><td>D1          </td><td>114000      </td><td>114000      </td><td>114000      </td><td>114000      </td><td>114000      </td><td>111500      </td><td>  1         </td><td>  114000    </td><td>2017-11-28  </td><td> 1          </td><td>INE140A08SX5</td><td>PEL         </td></tr>\n",
       "\t<tr><td>PEL         </td><td>D1          </td><td>106500      </td><td>106500      </td><td>106500      </td><td>106500      </td><td>106500      </td><td>107800      </td><td>  5         </td><td>  532500    </td><td>2017-11-20  </td><td> 2          </td><td>INE140A08SX5</td><td>PEL         </td></tr>\n",
       "\t<tr><td>TCFSL       </td><td>N6          </td><td>104999      </td><td>104999      </td><td>104999      </td><td>104999      </td><td>104999      </td><td>102000      </td><td>  4         </td><td>  419996    </td><td>2017-06-27  </td><td> 2          </td><td>INE306N07BK0</td><td>TCFSL       </td></tr>\n",
       "\t<tr><td>PEL         </td><td>D1          </td><td>119000      </td><td>119000      </td><td>119000      </td><td>119000      </td><td>119000      </td><td>113500      </td><td> 18         </td><td> 2142000    </td><td>2017-12-22  </td><td> 3          </td><td>INE140A08SX5</td><td>PEL         </td></tr>\n",
       "\t<tr><td>PEL         </td><td>D1          </td><td>109500      </td><td>110000      </td><td>106860      </td><td>109000      </td><td>109000      </td><td>106500      </td><td>120         </td><td>12897260    </td><td>2017-11-21  </td><td>10          </td><td>INE140A08SX5</td><td>PEL         </td></tr>\n",
       "\t<tr><td>PEL         </td><td>D1          </td><td>115500      </td><td>115650      </td><td>115500      </td><td>115650      </td><td>115650      </td><td>114000      </td><td> 15         </td><td> 1733400    </td><td>2017-11-29  </td><td> 4          </td><td>INE140A08SX5</td><td>PEL         </td></tr>\n",
       "\t<tr><td>PEL         </td><td>D1          </td><td>108000      </td><td>108000      </td><td>108000      </td><td>108000      </td><td>108000      </td><td>109000      </td><td>  1         </td><td>  108000    </td><td>2017-11-23  </td><td> 1          </td><td>INE140A08SX5</td><td>PEL         </td></tr>\n",
       "\t<tr><td>PEL         </td><td>D1          </td><td>111500      </td><td>111500      </td><td>111500      </td><td>111500      </td><td>111500      </td><td>108000      </td><td>  5         </td><td>  557500    </td><td>2017-11-24  </td><td> 1          </td><td>INE140A08SX5</td><td>PEL         </td></tr>\n",
       "\t<tr><td>TCFSL       </td><td>N6          </td><td>102000      </td><td>102000      </td><td>102000      </td><td>102000      </td><td>102000      </td><td>103500      </td><td>  1         </td><td>  102000    </td><td>2017-05-16  </td><td> 1          </td><td>INE306N07BK0</td><td>TCFSL       </td></tr>\n",
       "\t<tr><td>PEL         </td><td>D1          </td><td>114000      </td><td>114000      </td><td>114000      </td><td>114000      </td><td>114000      </td><td>115650      </td><td> 36         </td><td> 4104000    </td><td>2017-11-30  </td><td> 5          </td><td>INE140A08SX5</td><td>PEL         </td></tr>\n",
       "\t<tr><td>PEL         </td><td>D1          </td><td>106150      </td><td>106150      </td><td>106150      </td><td>106150      </td><td>106150      </td><td>107600      </td><td> 30         </td><td> 3184500    </td><td>2017-11-16  </td><td> 1          </td><td>INE140A08SX5</td><td>PEL         </td></tr>\n",
       "\t<tr><td>TCFSL       </td><td>N6          </td><td>104000      </td><td>104000      </td><td>104000      </td><td>104000      </td><td>104000      </td><td>104999      </td><td>  1         </td><td>  104000    </td><td>2017-07-31  </td><td> 1          </td><td>INE306N07BK0</td><td>TCFSL       </td></tr>\n",
       "\t<tr><td>PEL         </td><td>D1          </td><td>114000      </td><td>114000      </td><td>114000      </td><td>114000      </td><td>114000      </td><td>114000      </td><td>293         </td><td>33402000    </td><td>2017-12-01  </td><td>18          </td><td>INE140A08SX5</td><td>PEL         </td></tr>\n",
       "\t<tr><td>PEL         </td><td>D1          </td><td>113500      </td><td>113500      </td><td>113500      </td><td>113500      </td><td>113500      </td><td>113000      </td><td> 10         </td><td> 1135000    </td><td>2017-12-15  </td><td> 2          </td><td>INE140A08SX5</td><td>PEL         </td></tr>\n",
       "\t<tr><td>PEL         </td><td>D1          </td><td>119990      </td><td>119990      </td><td>119990      </td><td>119990      </td><td>119990      </td><td>112500      </td><td>  1         </td><td>  119990    </td><td>2017-12-08  </td><td> 1          </td><td>INE140A08SX5</td><td>PEL         </td></tr>\n",
       "\t<tr><td>TCFSL       </td><td>N6          </td><td>104000      </td><td>104000      </td><td>104000      </td><td>104000      </td><td>104000      </td><td>106000      </td><td>  1         </td><td>  104000    </td><td>2017-12-08  </td><td> 1          </td><td>INE306N07BK0</td><td>TCFSL       </td></tr>\n",
       "\t<tr><td>PEL         </td><td>D1          </td><td>107800      </td><td>107800      </td><td>107800      </td><td>107800      </td><td>107800      </td><td>106150      </td><td>  1         </td><td>  107800    </td><td>2017-11-17  </td><td> 1          </td><td>INE140A08SX5</td><td>PEL         </td></tr>\n",
       "\t<tr><td>PEL         </td><td>D1          </td><td>119500      </td><td>119500      </td><td>113000      </td><td>113000      </td><td>113000      </td><td>116700      </td><td>  2         </td><td>  232500    </td><td>2017-12-12  </td><td> 2          </td><td>INE140A08SX5</td><td>PEL         </td></tr>\n",
       "\t<tr><td>TCFSL       </td><td>N6          </td><td>106000      </td><td>106000      </td><td>106000      </td><td>106000      </td><td>106000      </td><td>106399      </td><td>  1         </td><td>  106000    </td><td>2017-12-07  </td><td> 1          </td><td>INE306N07BK0</td><td>TCFSL       </td></tr>\n",
       "\t<tr><td>TCFSL       </td><td>N6          </td><td>102000      </td><td>102000      </td><td>102000      </td><td>102000      </td><td>102000      </td><td>102000      </td><td>  1         </td><td>  102000    </td><td>2017-05-25  </td><td> 1          </td><td>INE306N07BK0</td><td>TCFSL       </td></tr>\n",
       "\t<tr><td>PEL         </td><td>D1          </td><td>112500      </td><td>112500      </td><td>112500      </td><td>112500      </td><td>112500      </td><td>114000      </td><td>  9         </td><td> 1012500    </td><td>2017-12-05  </td><td> 2          </td><td>INE140A08SX5</td><td>PEL         </td></tr>\n",
       "\t<tr><td>TCFSL       </td><td>N6          </td><td>102000      </td><td>102000      </td><td>102000      </td><td>102000      </td><td>102000      </td><td>104000      </td><td>  1         </td><td>  102000    </td><td>2017-10-16  </td><td> 1          </td><td>INE306N07BK0</td><td>TCFSL       </td></tr>\n",
       "\t<tr><td>TCFSL       </td><td>N6          </td><td>106399      </td><td>106399      </td><td>106399      </td><td>106399      </td><td>106399      </td><td>102000      </td><td>  1         </td><td>  106399    </td><td>2017-12-04  </td><td> 1          </td><td>INE306N07BK0</td><td>TCFSL       </td></tr>\n",
       "\t<tr><td>PEL         </td><td>D1          </td><td>117200      </td><td>117200      </td><td>116700      </td><td>116700      </td><td>116700      </td><td>119990      </td><td>800         </td><td>93688000    </td><td>2017-12-11  </td><td>20          </td><td>INE140A08SX5</td><td>PEL         </td></tr>\n",
       "\t<tr><td>TCFSL       </td><td>N6          </td><td> 99001      </td><td>101000      </td><td> 99001      </td><td>101000      </td><td>101000      </td><td>100000      </td><td>  2         </td><td>  200001    </td><td>2016-08-16  </td><td> 2          </td><td>INE306N07BK0</td><td>TCFSL       </td></tr>\n",
       "\t<tr><td>TCFSL       </td><td>N6          </td><td>105000      </td><td>105000      </td><td>105000      </td><td>105000      </td><td>105000      </td><td>101000      </td><td>  1         </td><td>  105000    </td><td>2016-11-17  </td><td> 1          </td><td>INE306N07BK0</td><td>TCFSL       </td></tr>\n",
       "\t<tr><td>TCFSL       </td><td>N6          </td><td> 99002      </td><td>103500      </td><td> 99002      </td><td>103500      </td><td>103500      </td><td>105000      </td><td>  2         </td><td>  202502    </td><td>2016-12-13  </td><td> 2          </td><td>INE306N07BK0</td><td>TCFSL       </td></tr>\n",
       "</tbody>\n",
       "</table>\n"
      ],
      "text/latex": [
       "\\begin{tabular}{r|llllllllllllll}\n",
       " SYMBOL & SERIES & OPEN & HIGH & LOW & CLOSE & LAST & PREVCLOSE & TOTTRDQTY & TOTTRDVAL & TIMESTAMP & TOTALTRADES & ISIN & data\\$SYMBOL\\\\\n",
       "\\hline\n",
       "\t PEL          & D1           & 114000       & 114000       & 114000       & 114000       & 114000       & 111500       &   1          &   114000     & 2017-11-28   &  1           & INE140A08SX5 & PEL         \\\\\n",
       "\t PEL          & D1           & 106500       & 106500       & 106500       & 106500       & 106500       & 107800       &   5          &   532500     & 2017-11-20   &  2           & INE140A08SX5 & PEL         \\\\\n",
       "\t TCFSL        & N6           & 104999       & 104999       & 104999       & 104999       & 104999       & 102000       &   4          &   419996     & 2017-06-27   &  2           & INE306N07BK0 & TCFSL       \\\\\n",
       "\t PEL          & D1           & 119000       & 119000       & 119000       & 119000       & 119000       & 113500       &  18          &  2142000     & 2017-12-22   &  3           & INE140A08SX5 & PEL         \\\\\n",
       "\t PEL          & D1           & 109500       & 110000       & 106860       & 109000       & 109000       & 106500       & 120          & 12897260     & 2017-11-21   & 10           & INE140A08SX5 & PEL         \\\\\n",
       "\t PEL          & D1           & 115500       & 115650       & 115500       & 115650       & 115650       & 114000       &  15          &  1733400     & 2017-11-29   &  4           & INE140A08SX5 & PEL         \\\\\n",
       "\t PEL          & D1           & 108000       & 108000       & 108000       & 108000       & 108000       & 109000       &   1          &   108000     & 2017-11-23   &  1           & INE140A08SX5 & PEL         \\\\\n",
       "\t PEL          & D1           & 111500       & 111500       & 111500       & 111500       & 111500       & 108000       &   5          &   557500     & 2017-11-24   &  1           & INE140A08SX5 & PEL         \\\\\n",
       "\t TCFSL        & N6           & 102000       & 102000       & 102000       & 102000       & 102000       & 103500       &   1          &   102000     & 2017-05-16   &  1           & INE306N07BK0 & TCFSL       \\\\\n",
       "\t PEL          & D1           & 114000       & 114000       & 114000       & 114000       & 114000       & 115650       &  36          &  4104000     & 2017-11-30   &  5           & INE140A08SX5 & PEL         \\\\\n",
       "\t PEL          & D1           & 106150       & 106150       & 106150       & 106150       & 106150       & 107600       &  30          &  3184500     & 2017-11-16   &  1           & INE140A08SX5 & PEL         \\\\\n",
       "\t TCFSL        & N6           & 104000       & 104000       & 104000       & 104000       & 104000       & 104999       &   1          &   104000     & 2017-07-31   &  1           & INE306N07BK0 & TCFSL       \\\\\n",
       "\t PEL          & D1           & 114000       & 114000       & 114000       & 114000       & 114000       & 114000       & 293          & 33402000     & 2017-12-01   & 18           & INE140A08SX5 & PEL         \\\\\n",
       "\t PEL          & D1           & 113500       & 113500       & 113500       & 113500       & 113500       & 113000       &  10          &  1135000     & 2017-12-15   &  2           & INE140A08SX5 & PEL         \\\\\n",
       "\t PEL          & D1           & 119990       & 119990       & 119990       & 119990       & 119990       & 112500       &   1          &   119990     & 2017-12-08   &  1           & INE140A08SX5 & PEL         \\\\\n",
       "\t TCFSL        & N6           & 104000       & 104000       & 104000       & 104000       & 104000       & 106000       &   1          &   104000     & 2017-12-08   &  1           & INE306N07BK0 & TCFSL       \\\\\n",
       "\t PEL          & D1           & 107800       & 107800       & 107800       & 107800       & 107800       & 106150       &   1          &   107800     & 2017-11-17   &  1           & INE140A08SX5 & PEL         \\\\\n",
       "\t PEL          & D1           & 119500       & 119500       & 113000       & 113000       & 113000       & 116700       &   2          &   232500     & 2017-12-12   &  2           & INE140A08SX5 & PEL         \\\\\n",
       "\t TCFSL        & N6           & 106000       & 106000       & 106000       & 106000       & 106000       & 106399       &   1          &   106000     & 2017-12-07   &  1           & INE306N07BK0 & TCFSL       \\\\\n",
       "\t TCFSL        & N6           & 102000       & 102000       & 102000       & 102000       & 102000       & 102000       &   1          &   102000     & 2017-05-25   &  1           & INE306N07BK0 & TCFSL       \\\\\n",
       "\t PEL          & D1           & 112500       & 112500       & 112500       & 112500       & 112500       & 114000       &   9          &  1012500     & 2017-12-05   &  2           & INE140A08SX5 & PEL         \\\\\n",
       "\t TCFSL        & N6           & 102000       & 102000       & 102000       & 102000       & 102000       & 104000       &   1          &   102000     & 2017-10-16   &  1           & INE306N07BK0 & TCFSL       \\\\\n",
       "\t TCFSL        & N6           & 106399       & 106399       & 106399       & 106399       & 106399       & 102000       &   1          &   106399     & 2017-12-04   &  1           & INE306N07BK0 & TCFSL       \\\\\n",
       "\t PEL          & D1           & 117200       & 117200       & 116700       & 116700       & 116700       & 119990       & 800          & 93688000     & 2017-12-11   & 20           & INE140A08SX5 & PEL         \\\\\n",
       "\t TCFSL        & N6           &  99001       & 101000       &  99001       & 101000       & 101000       & 100000       &   2          &   200001     & 2016-08-16   &  2           & INE306N07BK0 & TCFSL       \\\\\n",
       "\t TCFSL        & N6           & 105000       & 105000       & 105000       & 105000       & 105000       & 101000       &   1          &   105000     & 2016-11-17   &  1           & INE306N07BK0 & TCFSL       \\\\\n",
       "\t TCFSL        & N6           &  99002       & 103500       &  99002       & 103500       & 103500       & 105000       &   2          &   202502     & 2016-12-13   &  2           & INE306N07BK0 & TCFSL       \\\\\n",
       "\\end{tabular}\n"
      ],
      "text/markdown": [
       "\n",
       "SYMBOL | SERIES | OPEN | HIGH | LOW | CLOSE | LAST | PREVCLOSE | TOTTRDQTY | TOTTRDVAL | TIMESTAMP | TOTALTRADES | ISIN | data$SYMBOL | \n",
       "|---|---|---|---|---|---|---|---|---|---|---|---|---|---|---|---|---|---|---|---|---|---|---|---|---|---|---|\n",
       "| PEL          | D1           | 114000       | 114000       | 114000       | 114000       | 114000       | 111500       |   1          |   114000     | 2017-11-28   |  1           | INE140A08SX5 | PEL          | \n",
       "| PEL          | D1           | 106500       | 106500       | 106500       | 106500       | 106500       | 107800       |   5          |   532500     | 2017-11-20   |  2           | INE140A08SX5 | PEL          | \n",
       "| TCFSL        | N6           | 104999       | 104999       | 104999       | 104999       | 104999       | 102000       |   4          |   419996     | 2017-06-27   |  2           | INE306N07BK0 | TCFSL        | \n",
       "| PEL          | D1           | 119000       | 119000       | 119000       | 119000       | 119000       | 113500       |  18          |  2142000     | 2017-12-22   |  3           | INE140A08SX5 | PEL          | \n",
       "| PEL          | D1           | 109500       | 110000       | 106860       | 109000       | 109000       | 106500       | 120          | 12897260     | 2017-11-21   | 10           | INE140A08SX5 | PEL          | \n",
       "| PEL          | D1           | 115500       | 115650       | 115500       | 115650       | 115650       | 114000       |  15          |  1733400     | 2017-11-29   |  4           | INE140A08SX5 | PEL          | \n",
       "| PEL          | D1           | 108000       | 108000       | 108000       | 108000       | 108000       | 109000       |   1          |   108000     | 2017-11-23   |  1           | INE140A08SX5 | PEL          | \n",
       "| PEL          | D1           | 111500       | 111500       | 111500       | 111500       | 111500       | 108000       |   5          |   557500     | 2017-11-24   |  1           | INE140A08SX5 | PEL          | \n",
       "| TCFSL        | N6           | 102000       | 102000       | 102000       | 102000       | 102000       | 103500       |   1          |   102000     | 2017-05-16   |  1           | INE306N07BK0 | TCFSL        | \n",
       "| PEL          | D1           | 114000       | 114000       | 114000       | 114000       | 114000       | 115650       |  36          |  4104000     | 2017-11-30   |  5           | INE140A08SX5 | PEL          | \n",
       "| PEL          | D1           | 106150       | 106150       | 106150       | 106150       | 106150       | 107600       |  30          |  3184500     | 2017-11-16   |  1           | INE140A08SX5 | PEL          | \n",
       "| TCFSL        | N6           | 104000       | 104000       | 104000       | 104000       | 104000       | 104999       |   1          |   104000     | 2017-07-31   |  1           | INE306N07BK0 | TCFSL        | \n",
       "| PEL          | D1           | 114000       | 114000       | 114000       | 114000       | 114000       | 114000       | 293          | 33402000     | 2017-12-01   | 18           | INE140A08SX5 | PEL          | \n",
       "| PEL          | D1           | 113500       | 113500       | 113500       | 113500       | 113500       | 113000       |  10          |  1135000     | 2017-12-15   |  2           | INE140A08SX5 | PEL          | \n",
       "| PEL          | D1           | 119990       | 119990       | 119990       | 119990       | 119990       | 112500       |   1          |   119990     | 2017-12-08   |  1           | INE140A08SX5 | PEL          | \n",
       "| TCFSL        | N6           | 104000       | 104000       | 104000       | 104000       | 104000       | 106000       |   1          |   104000     | 2017-12-08   |  1           | INE306N07BK0 | TCFSL        | \n",
       "| PEL          | D1           | 107800       | 107800       | 107800       | 107800       | 107800       | 106150       |   1          |   107800     | 2017-11-17   |  1           | INE140A08SX5 | PEL          | \n",
       "| PEL          | D1           | 119500       | 119500       | 113000       | 113000       | 113000       | 116700       |   2          |   232500     | 2017-12-12   |  2           | INE140A08SX5 | PEL          | \n",
       "| TCFSL        | N6           | 106000       | 106000       | 106000       | 106000       | 106000       | 106399       |   1          |   106000     | 2017-12-07   |  1           | INE306N07BK0 | TCFSL        | \n",
       "| TCFSL        | N6           | 102000       | 102000       | 102000       | 102000       | 102000       | 102000       |   1          |   102000     | 2017-05-25   |  1           | INE306N07BK0 | TCFSL        | \n",
       "| PEL          | D1           | 112500       | 112500       | 112500       | 112500       | 112500       | 114000       |   9          |  1012500     | 2017-12-05   |  2           | INE140A08SX5 | PEL          | \n",
       "| TCFSL        | N6           | 102000       | 102000       | 102000       | 102000       | 102000       | 104000       |   1          |   102000     | 2017-10-16   |  1           | INE306N07BK0 | TCFSL        | \n",
       "| TCFSL        | N6           | 106399       | 106399       | 106399       | 106399       | 106399       | 102000       |   1          |   106399     | 2017-12-04   |  1           | INE306N07BK0 | TCFSL        | \n",
       "| PEL          | D1           | 117200       | 117200       | 116700       | 116700       | 116700       | 119990       | 800          | 93688000     | 2017-12-11   | 20           | INE140A08SX5 | PEL          | \n",
       "| TCFSL        | N6           |  99001       | 101000       |  99001       | 101000       | 101000       | 100000       |   2          |   200001     | 2016-08-16   |  2           | INE306N07BK0 | TCFSL        | \n",
       "| TCFSL        | N6           | 105000       | 105000       | 105000       | 105000       | 105000       | 101000       |   1          |   105000     | 2016-11-17   |  1           | INE306N07BK0 | TCFSL        | \n",
       "| TCFSL        | N6           |  99002       | 103500       |  99002       | 103500       | 103500       | 105000       |   2          |   202502     | 2016-12-13   |  2           | INE306N07BK0 | TCFSL        | \n",
       "\n",
       "\n"
      ],
      "text/plain": [
       "   SYMBOL SERIES OPEN   HIGH   LOW    CLOSE  LAST   PREVCLOSE TOTTRDQTY\n",
       "1  PEL    D1     114000 114000 114000 114000 114000 111500      1      \n",
       "2  PEL    D1     106500 106500 106500 106500 106500 107800      5      \n",
       "3  TCFSL  N6     104999 104999 104999 104999 104999 102000      4      \n",
       "4  PEL    D1     119000 119000 119000 119000 119000 113500     18      \n",
       "5  PEL    D1     109500 110000 106860 109000 109000 106500    120      \n",
       "6  PEL    D1     115500 115650 115500 115650 115650 114000     15      \n",
       "7  PEL    D1     108000 108000 108000 108000 108000 109000      1      \n",
       "8  PEL    D1     111500 111500 111500 111500 111500 108000      5      \n",
       "9  TCFSL  N6     102000 102000 102000 102000 102000 103500      1      \n",
       "10 PEL    D1     114000 114000 114000 114000 114000 115650     36      \n",
       "11 PEL    D1     106150 106150 106150 106150 106150 107600     30      \n",
       "12 TCFSL  N6     104000 104000 104000 104000 104000 104999      1      \n",
       "13 PEL    D1     114000 114000 114000 114000 114000 114000    293      \n",
       "14 PEL    D1     113500 113500 113500 113500 113500 113000     10      \n",
       "15 PEL    D1     119990 119990 119990 119990 119990 112500      1      \n",
       "16 TCFSL  N6     104000 104000 104000 104000 104000 106000      1      \n",
       "17 PEL    D1     107800 107800 107800 107800 107800 106150      1      \n",
       "18 PEL    D1     119500 119500 113000 113000 113000 116700      2      \n",
       "19 TCFSL  N6     106000 106000 106000 106000 106000 106399      1      \n",
       "20 TCFSL  N6     102000 102000 102000 102000 102000 102000      1      \n",
       "21 PEL    D1     112500 112500 112500 112500 112500 114000      9      \n",
       "22 TCFSL  N6     102000 102000 102000 102000 102000 104000      1      \n",
       "23 TCFSL  N6     106399 106399 106399 106399 106399 102000      1      \n",
       "24 PEL    D1     117200 117200 116700 116700 116700 119990    800      \n",
       "25 TCFSL  N6      99001 101000  99001 101000 101000 100000      2      \n",
       "26 TCFSL  N6     105000 105000 105000 105000 105000 101000      1      \n",
       "27 TCFSL  N6      99002 103500  99002 103500 103500 105000      2      \n",
       "   TOTTRDVAL TIMESTAMP  TOTALTRADES ISIN         data$SYMBOL\n",
       "1    114000  2017-11-28  1          INE140A08SX5 PEL        \n",
       "2    532500  2017-11-20  2          INE140A08SX5 PEL        \n",
       "3    419996  2017-06-27  2          INE306N07BK0 TCFSL      \n",
       "4   2142000  2017-12-22  3          INE140A08SX5 PEL        \n",
       "5  12897260  2017-11-21 10          INE140A08SX5 PEL        \n",
       "6   1733400  2017-11-29  4          INE140A08SX5 PEL        \n",
       "7    108000  2017-11-23  1          INE140A08SX5 PEL        \n",
       "8    557500  2017-11-24  1          INE140A08SX5 PEL        \n",
       "9    102000  2017-05-16  1          INE306N07BK0 TCFSL      \n",
       "10  4104000  2017-11-30  5          INE140A08SX5 PEL        \n",
       "11  3184500  2017-11-16  1          INE140A08SX5 PEL        \n",
       "12   104000  2017-07-31  1          INE306N07BK0 TCFSL      \n",
       "13 33402000  2017-12-01 18          INE140A08SX5 PEL        \n",
       "14  1135000  2017-12-15  2          INE140A08SX5 PEL        \n",
       "15   119990  2017-12-08  1          INE140A08SX5 PEL        \n",
       "16   104000  2017-12-08  1          INE306N07BK0 TCFSL      \n",
       "17   107800  2017-11-17  1          INE140A08SX5 PEL        \n",
       "18   232500  2017-12-12  2          INE140A08SX5 PEL        \n",
       "19   106000  2017-12-07  1          INE306N07BK0 TCFSL      \n",
       "20   102000  2017-05-25  1          INE306N07BK0 TCFSL      \n",
       "21  1012500  2017-12-05  2          INE140A08SX5 PEL        \n",
       "22   102000  2017-10-16  1          INE306N07BK0 TCFSL      \n",
       "23   106399  2017-12-04  1          INE306N07BK0 TCFSL      \n",
       "24 93688000  2017-12-11 20          INE140A08SX5 PEL        \n",
       "25   200001  2016-08-16  2          INE306N07BK0 TCFSL      \n",
       "26   105000  2016-11-17  1          INE306N07BK0 TCFSL      \n",
       "27   202502  2016-12-13  2          INE306N07BK0 TCFSL      "
      ]
     },
     "metadata": {},
     "output_type": "display_data"
    }
   ],
   "source": [
    "data %>% group_by(data$SYMBOL)%>% filter(HIGH>100000 & CLOSE >100000)"
   ]
  },
  {
   "cell_type": "code",
   "execution_count": 19,
   "metadata": {},
   "outputs": [],
   "source": [
    "# summarise all"
   ]
  },
  {
   "cell_type": "code",
   "execution_count": 20,
   "metadata": {},
   "outputs": [
    {
     "name": "stderr",
     "output_type": "stream",
     "text": [
      "Warning message in mean.default(SYMBOL, na.rm = TRUE):\n",
      "\"argument is not numeric or logical: returning NA\"Warning message in mean.default(SERIES, na.rm = TRUE):\n",
      "\"argument is not numeric or logical: returning NA\"Warning message in mean.default(TIMESTAMP, na.rm = TRUE):\n",
      "\"argument is not numeric or logical: returning NA\"Warning message in mean.default(ISIN, na.rm = TRUE):\n",
      "\"argument is not numeric or logical: returning NA\""
     ]
    },
    {
     "data": {
      "text/html": [
       "<table>\n",
       "<thead><tr><th scope=col>SYMBOL</th><th scope=col>SERIES</th><th scope=col>OPEN</th><th scope=col>HIGH</th><th scope=col>LOW</th><th scope=col>CLOSE</th><th scope=col>LAST</th><th scope=col>PREVCLOSE</th><th scope=col>TOTTRDQTY</th><th scope=col>TOTTRDVAL</th><th scope=col>TIMESTAMP</th><th scope=col>TOTALTRADES</th><th scope=col>ISIN</th></tr></thead>\n",
       "<tbody>\n",
       "\t<tr><td>NA       </td><td>NA       </td><td>561.2588 </td><td>568.6793 </td><td>553.8619 </td><td>560.8152 </td><td>560.1844 </td><td>560.2253 </td><td>698380   </td><td>133459226</td><td>NA       </td><td>5013.823 </td><td>NA       </td></tr>\n",
       "</tbody>\n",
       "</table>\n"
      ],
      "text/latex": [
       "\\begin{tabular}{r|lllllllllllll}\n",
       " SYMBOL & SERIES & OPEN & HIGH & LOW & CLOSE & LAST & PREVCLOSE & TOTTRDQTY & TOTTRDVAL & TIMESTAMP & TOTALTRADES & ISIN\\\\\n",
       "\\hline\n",
       "\t NA        & NA        & 561.2588  & 568.6793  & 553.8619  & 560.8152  & 560.1844  & 560.2253  & 698380    & 133459226 & NA        & 5013.823  & NA       \\\\\n",
       "\\end{tabular}\n"
      ],
      "text/markdown": [
       "\n",
       "SYMBOL | SERIES | OPEN | HIGH | LOW | CLOSE | LAST | PREVCLOSE | TOTTRDQTY | TOTTRDVAL | TIMESTAMP | TOTALTRADES | ISIN | \n",
       "|---|\n",
       "| NA        | NA        | 561.2588  | 568.6793  | 553.8619  | 560.8152  | 560.1844  | 560.2253  | 698380    | 133459226 | NA        | 5013.823  | NA        | \n",
       "\n",
       "\n"
      ],
      "text/plain": [
       "  SYMBOL SERIES OPEN     HIGH     LOW      CLOSE    LAST     PREVCLOSE\n",
       "1 NA     NA     561.2588 568.6793 553.8619 560.8152 560.1844 560.2253 \n",
       "  TOTTRDQTY TOTTRDVAL TIMESTAMP TOTALTRADES ISIN\n",
       "1 698380    133459226 NA        5013.823    NA  "
      ]
     },
     "metadata": {},
     "output_type": "display_data"
    }
   ],
   "source": [
    "data %>% summarise_all(mean, na.rm=TRUE)"
   ]
  },
  {
   "cell_type": "code",
   "execution_count": 21,
   "metadata": {},
   "outputs": [
    {
     "data": {
      "text/html": [
       "<table>\n",
       "<thead><tr><th scope=col>OPEN</th><th scope=col>HIGH</th><th scope=col>LOW</th><th scope=col>CLOSE</th><th scope=col>LAST</th><th scope=col>PREVCLOSE</th><th scope=col>TOTTRDQTY</th><th scope=col>TOTTRDVAL</th><th scope=col>TOTALTRADES</th></tr></thead>\n",
       "<tbody>\n",
       "\t<tr><td>561.2588 </td><td>568.6793 </td><td>553.8619 </td><td>560.8152 </td><td>560.1844 </td><td>560.2253 </td><td>698380   </td><td>133459226</td><td>5013.823 </td></tr>\n",
       "</tbody>\n",
       "</table>\n"
      ],
      "text/latex": [
       "\\begin{tabular}{r|lllllllll}\n",
       " OPEN & HIGH & LOW & CLOSE & LAST & PREVCLOSE & TOTTRDQTY & TOTTRDVAL & TOTALTRADES\\\\\n",
       "\\hline\n",
       "\t 561.2588  & 568.6793  & 553.8619  & 560.8152  & 560.1844  & 560.2253  & 698380    & 133459226 & 5013.823 \\\\\n",
       "\\end{tabular}\n"
      ],
      "text/markdown": [
       "\n",
       "OPEN | HIGH | LOW | CLOSE | LAST | PREVCLOSE | TOTTRDQTY | TOTTRDVAL | TOTALTRADES | \n",
       "|---|\n",
       "| 561.2588  | 568.6793  | 553.8619  | 560.8152  | 560.1844  | 560.2253  | 698380    | 133459226 | 5013.823  | \n",
       "\n",
       "\n"
      ],
      "text/plain": [
       "  OPEN     HIGH     LOW      CLOSE    LAST     PREVCLOSE TOTTRDQTY TOTTRDVAL\n",
       "1 561.2588 568.6793 553.8619 560.8152 560.1844 560.2253  698380    133459226\n",
       "  TOTALTRADES\n",
       "1 5013.823   "
      ]
     },
     "metadata": {},
     "output_type": "display_data"
    }
   ],
   "source": [
    "data %>% summarise_if(is.numeric, mean, na.rm = T)"
   ]
  },
  {
   "cell_type": "code",
   "execution_count": 22,
   "metadata": {},
   "outputs": [
    {
     "data": {
      "text/html": [
       "<table>\n",
       "<thead><tr><th scope=col>OPEN</th><th scope=col>HIGH</th><th scope=col>LOW</th><th scope=col>CLOSE</th><th scope=col>LAST</th><th scope=col>PREVCLOSE</th><th scope=col>TOTTRDQTY</th><th scope=col>TOTTRDVAL</th></tr></thead>\n",
       "<tbody>\n",
       "\t<tr><td>561.2588 </td><td>568.6793 </td><td>553.8619 </td><td>560.8152 </td><td>560.1844 </td><td>560.2253 </td><td>698380   </td><td>133459226</td></tr>\n",
       "</tbody>\n",
       "</table>\n"
      ],
      "text/latex": [
       "\\begin{tabular}{r|llllllll}\n",
       " OPEN & HIGH & LOW & CLOSE & LAST & PREVCLOSE & TOTTRDQTY & TOTTRDVAL\\\\\n",
       "\\hline\n",
       "\t 561.2588  & 568.6793  & 553.8619  & 560.8152  & 560.1844  & 560.2253  & 698380    & 133459226\\\\\n",
       "\\end{tabular}\n"
      ],
      "text/markdown": [
       "\n",
       "OPEN | HIGH | LOW | CLOSE | LAST | PREVCLOSE | TOTTRDQTY | TOTTRDVAL | \n",
       "|---|\n",
       "| 561.2588  | 568.6793  | 553.8619  | 560.8152  | 560.1844  | 560.2253  | 698380    | 133459226 | \n",
       "\n",
       "\n"
      ],
      "text/plain": [
       "  OPEN     HIGH     LOW      CLOSE    LAST     PREVCLOSE TOTTRDQTY TOTTRDVAL\n",
       "1 561.2588 568.6793 553.8619 560.8152 560.1844 560.2253  698380    133459226"
      ]
     },
     "metadata": {},
     "output_type": "display_data"
    }
   ],
   "source": [
    "data %>% summarise_at(vars(OPEN:TOTTRDVAL), mean ,na.rm = TRUE)"
   ]
  },
  {
   "cell_type": "code",
   "execution_count": 23,
   "metadata": {},
   "outputs": [],
   "source": [
    "# JOINS"
   ]
  },
  {
   "cell_type": "code",
   "execution_count": 24,
   "metadata": {},
   "outputs": [],
   "source": [
    "data_1 = data.frame(ID = c(101, 102, 103, 104, 105),\n",
    "                 NAME = c('TOM', 'CHRIS', 'WALTER', 'JESSE', 'FREDDY'),\n",
    "                 WIFE = c('SKYLER', 'MAGGIE', 'JULIE', 'SCOTTIE', 'MEGHAN'),\n",
    "                 CHILDREN =c(5,2,7,1,3),\n",
    "                 CAR = c(2,2,1,2,2),\n",
    "                 RANDOM =rnorm(5))"
   ]
  },
  {
   "cell_type": "code",
   "execution_count": 25,
   "metadata": {},
   "outputs": [
    {
     "data": {
      "text/html": [
       "<table>\n",
       "<thead><tr><th scope=col>ID</th><th scope=col>NAME</th><th scope=col>WIFE</th><th scope=col>CHILDREN</th><th scope=col>CAR</th><th scope=col>RANDOM</th></tr></thead>\n",
       "<tbody>\n",
       "\t<tr><td>101       </td><td>TOM       </td><td>SKYLER    </td><td>5         </td><td>2         </td><td> 0.2807331</td></tr>\n",
       "\t<tr><td>102       </td><td>CHRIS     </td><td>MAGGIE    </td><td>2         </td><td>2         </td><td> 1.4799607</td></tr>\n",
       "\t<tr><td>103       </td><td>WALTER    </td><td>JULIE     </td><td>7         </td><td>1         </td><td>-0.2857056</td></tr>\n",
       "\t<tr><td>104       </td><td>JESSE     </td><td>SCOTTIE   </td><td>1         </td><td>2         </td><td>-0.3089356</td></tr>\n",
       "\t<tr><td>105       </td><td>FREDDY    </td><td>MEGHAN    </td><td>3         </td><td>2         </td><td>-2.5385769</td></tr>\n",
       "</tbody>\n",
       "</table>\n"
      ],
      "text/latex": [
       "\\begin{tabular}{r|llllll}\n",
       " ID & NAME & WIFE & CHILDREN & CAR & RANDOM\\\\\n",
       "\\hline\n",
       "\t 101        & TOM        & SKYLER     & 5          & 2          &  0.2807331\\\\\n",
       "\t 102        & CHRIS      & MAGGIE     & 2          & 2          &  1.4799607\\\\\n",
       "\t 103        & WALTER     & JULIE      & 7          & 1          & -0.2857056\\\\\n",
       "\t 104        & JESSE      & SCOTTIE    & 1          & 2          & -0.3089356\\\\\n",
       "\t 105        & FREDDY     & MEGHAN     & 3          & 2          & -2.5385769\\\\\n",
       "\\end{tabular}\n"
      ],
      "text/markdown": [
       "\n",
       "ID | NAME | WIFE | CHILDREN | CAR | RANDOM | \n",
       "|---|---|---|---|---|\n",
       "| 101        | TOM        | SKYLER     | 5          | 2          |  0.2807331 | \n",
       "| 102        | CHRIS      | MAGGIE     | 2          | 2          |  1.4799607 | \n",
       "| 103        | WALTER     | JULIE      | 7          | 1          | -0.2857056 | \n",
       "| 104        | JESSE      | SCOTTIE    | 1          | 2          | -0.3089356 | \n",
       "| 105        | FREDDY     | MEGHAN     | 3          | 2          | -2.5385769 | \n",
       "\n",
       "\n"
      ],
      "text/plain": [
       "  ID  NAME   WIFE    CHILDREN CAR RANDOM    \n",
       "1 101 TOM    SKYLER  5        2    0.2807331\n",
       "2 102 CHRIS  MAGGIE  2        2    1.4799607\n",
       "3 103 WALTER JULIE   7        1   -0.2857056\n",
       "4 104 JESSE  SCOTTIE 1        2   -0.3089356\n",
       "5 105 FREDDY MEGHAN  3        2   -2.5385769"
      ]
     },
     "metadata": {},
     "output_type": "display_data"
    }
   ],
   "source": [
    "data_1"
   ]
  },
  {
   "cell_type": "code",
   "execution_count": 26,
   "metadata": {},
   "outputs": [],
   "source": [
    "data_2 = data.frame(ID = c(101,103, 106,107, 108),\n",
    "                 NAME = c('TOM', 'WALTER','BRYCE', 'HARRY','ROM'),\n",
    "                 WIFE = c('SKYLER', 'JULIE','RACHAEL','OLIVIA', 'SOPHIA'),\n",
    "                 CHILDREN =c(5,3,7,5,6),\n",
    "                 CAR = c(2,1,1,1,1),\n",
    "                 RANDOM =rnorm(5))"
   ]
  },
  {
   "cell_type": "code",
   "execution_count": 27,
   "metadata": {},
   "outputs": [
    {
     "data": {
      "text/html": [
       "<table>\n",
       "<thead><tr><th scope=col>ID</th><th scope=col>NAME</th><th scope=col>WIFE</th><th scope=col>CHILDREN</th><th scope=col>CAR</th><th scope=col>RANDOM</th></tr></thead>\n",
       "<tbody>\n",
       "\t<tr><td>101       </td><td>TOM       </td><td>SKYLER    </td><td>5         </td><td>2         </td><td>-0.7312905</td></tr>\n",
       "\t<tr><td>103       </td><td>WALTER    </td><td>JULIE     </td><td>3         </td><td>1         </td><td>-0.2336189</td></tr>\n",
       "\t<tr><td>106       </td><td>BRYCE     </td><td>RACHAEL   </td><td>7         </td><td>1         </td><td>-0.7236884</td></tr>\n",
       "\t<tr><td>107       </td><td>HARRY     </td><td>OLIVIA    </td><td>5         </td><td>1         </td><td>-0.7072741</td></tr>\n",
       "\t<tr><td>108       </td><td>ROM       </td><td>SOPHIA    </td><td>6         </td><td>1         </td><td>-1.7104660</td></tr>\n",
       "</tbody>\n",
       "</table>\n"
      ],
      "text/latex": [
       "\\begin{tabular}{r|llllll}\n",
       " ID & NAME & WIFE & CHILDREN & CAR & RANDOM\\\\\n",
       "\\hline\n",
       "\t 101        & TOM        & SKYLER     & 5          & 2          & -0.7312905\\\\\n",
       "\t 103        & WALTER     & JULIE      & 3          & 1          & -0.2336189\\\\\n",
       "\t 106        & BRYCE      & RACHAEL    & 7          & 1          & -0.7236884\\\\\n",
       "\t 107        & HARRY      & OLIVIA     & 5          & 1          & -0.7072741\\\\\n",
       "\t 108        & ROM        & SOPHIA     & 6          & 1          & -1.7104660\\\\\n",
       "\\end{tabular}\n"
      ],
      "text/markdown": [
       "\n",
       "ID | NAME | WIFE | CHILDREN | CAR | RANDOM | \n",
       "|---|---|---|---|---|\n",
       "| 101        | TOM        | SKYLER     | 5          | 2          | -0.7312905 | \n",
       "| 103        | WALTER     | JULIE      | 3          | 1          | -0.2336189 | \n",
       "| 106        | BRYCE      | RACHAEL    | 7          | 1          | -0.7236884 | \n",
       "| 107        | HARRY      | OLIVIA     | 5          | 1          | -0.7072741 | \n",
       "| 108        | ROM        | SOPHIA     | 6          | 1          | -1.7104660 | \n",
       "\n",
       "\n"
      ],
      "text/plain": [
       "  ID  NAME   WIFE    CHILDREN CAR RANDOM    \n",
       "1 101 TOM    SKYLER  5        2   -0.7312905\n",
       "2 103 WALTER JULIE   3        1   -0.2336189\n",
       "3 106 BRYCE  RACHAEL 7        1   -0.7236884\n",
       "4 107 HARRY  OLIVIA  5        1   -0.7072741\n",
       "5 108 ROM    SOPHIA  6        1   -1.7104660"
      ]
     },
     "metadata": {},
     "output_type": "display_data"
    }
   ],
   "source": [
    "data_2"
   ]
  },
  {
   "cell_type": "code",
   "execution_count": 28,
   "metadata": {},
   "outputs": [],
   "source": [
    "# LEFT JOIN"
   ]
  },
  {
   "cell_type": "code",
   "execution_count": 29,
   "metadata": {},
   "outputs": [
    {
     "data": {
      "text/html": [
       "<table>\n",
       "<thead><tr><th scope=col>ID</th><th scope=col>NAME.x</th><th scope=col>WIFE.x</th><th scope=col>CHILDREN.x</th><th scope=col>CAR.x</th><th scope=col>RANDOM.x</th><th scope=col>NAME.y</th><th scope=col>WIFE.y</th><th scope=col>CHILDREN.y</th><th scope=col>CAR.y</th><th scope=col>RANDOM.y</th></tr></thead>\n",
       "<tbody>\n",
       "\t<tr><td>101       </td><td>TOM       </td><td>SKYLER    </td><td>5         </td><td>2         </td><td> 0.2807331</td><td>TOM       </td><td>SKYLER    </td><td> 5        </td><td> 2        </td><td>-0.7312905</td></tr>\n",
       "\t<tr><td>102       </td><td>CHRIS     </td><td>MAGGIE    </td><td>2         </td><td>2         </td><td> 1.4799607</td><td>NA        </td><td>NA        </td><td>NA        </td><td>NA        </td><td>        NA</td></tr>\n",
       "\t<tr><td>103       </td><td>WALTER    </td><td>JULIE     </td><td>7         </td><td>1         </td><td>-0.2857056</td><td>WALTER    </td><td>JULIE     </td><td> 3        </td><td> 1        </td><td>-0.2336189</td></tr>\n",
       "\t<tr><td>104       </td><td>JESSE     </td><td>SCOTTIE   </td><td>1         </td><td>2         </td><td>-0.3089356</td><td>NA        </td><td>NA        </td><td>NA        </td><td>NA        </td><td>        NA</td></tr>\n",
       "\t<tr><td>105       </td><td>FREDDY    </td><td>MEGHAN    </td><td>3         </td><td>2         </td><td>-2.5385769</td><td>NA        </td><td>NA        </td><td>NA        </td><td>NA        </td><td>        NA</td></tr>\n",
       "</tbody>\n",
       "</table>\n"
      ],
      "text/latex": [
       "\\begin{tabular}{r|lllllllllll}\n",
       " ID & NAME.x & WIFE.x & CHILDREN.x & CAR.x & RANDOM.x & NAME.y & WIFE.y & CHILDREN.y & CAR.y & RANDOM.y\\\\\n",
       "\\hline\n",
       "\t 101        & TOM        & SKYLER     & 5          & 2          &  0.2807331 & TOM        & SKYLER     &  5         &  2         & -0.7312905\\\\\n",
       "\t 102        & CHRIS      & MAGGIE     & 2          & 2          &  1.4799607 & NA         & NA         & NA         & NA         &         NA\\\\\n",
       "\t 103        & WALTER     & JULIE      & 7          & 1          & -0.2857056 & WALTER     & JULIE      &  3         &  1         & -0.2336189\\\\\n",
       "\t 104        & JESSE      & SCOTTIE    & 1          & 2          & -0.3089356 & NA         & NA         & NA         & NA         &         NA\\\\\n",
       "\t 105        & FREDDY     & MEGHAN     & 3          & 2          & -2.5385769 & NA         & NA         & NA         & NA         &         NA\\\\\n",
       "\\end{tabular}\n"
      ],
      "text/markdown": [
       "\n",
       "ID | NAME.x | WIFE.x | CHILDREN.x | CAR.x | RANDOM.x | NAME.y | WIFE.y | CHILDREN.y | CAR.y | RANDOM.y | \n",
       "|---|---|---|---|---|\n",
       "| 101        | TOM        | SKYLER     | 5          | 2          |  0.2807331 | TOM        | SKYLER     |  5         |  2         | -0.7312905 | \n",
       "| 102        | CHRIS      | MAGGIE     | 2          | 2          |  1.4799607 | NA         | NA         | NA         | NA         |         NA | \n",
       "| 103        | WALTER     | JULIE      | 7          | 1          | -0.2857056 | WALTER     | JULIE      |  3         |  1         | -0.2336189 | \n",
       "| 104        | JESSE      | SCOTTIE    | 1          | 2          | -0.3089356 | NA         | NA         | NA         | NA         |         NA | \n",
       "| 105        | FREDDY     | MEGHAN     | 3          | 2          | -2.5385769 | NA         | NA         | NA         | NA         |         NA | \n",
       "\n",
       "\n"
      ],
      "text/plain": [
       "  ID  NAME.x WIFE.x  CHILDREN.x CAR.x RANDOM.x   NAME.y WIFE.y CHILDREN.y CAR.y\n",
       "1 101 TOM    SKYLER  5          2      0.2807331 TOM    SKYLER  5          2   \n",
       "2 102 CHRIS  MAGGIE  2          2      1.4799607 NA     NA     NA         NA   \n",
       "3 103 WALTER JULIE   7          1     -0.2857056 WALTER JULIE   3          1   \n",
       "4 104 JESSE  SCOTTIE 1          2     -0.3089356 NA     NA     NA         NA   \n",
       "5 105 FREDDY MEGHAN  3          2     -2.5385769 NA     NA     NA         NA   \n",
       "  RANDOM.y  \n",
       "1 -0.7312905\n",
       "2         NA\n",
       "3 -0.2336189\n",
       "4         NA\n",
       "5         NA"
      ]
     },
     "metadata": {},
     "output_type": "display_data"
    }
   ],
   "source": [
    "left_join(data_1, data_2, by = \"ID\")"
   ]
  },
  {
   "cell_type": "code",
   "execution_count": 30,
   "metadata": {},
   "outputs": [],
   "source": [
    "# RIGHT JOIN"
   ]
  },
  {
   "cell_type": "code",
   "execution_count": 31,
   "metadata": {},
   "outputs": [
    {
     "data": {
      "text/html": [
       "<table>\n",
       "<thead><tr><th scope=col>ID</th><th scope=col>NAME.x</th><th scope=col>WIFE.x</th><th scope=col>CHILDREN.x</th><th scope=col>CAR.x</th><th scope=col>RANDOM.x</th><th scope=col>NAME.y</th><th scope=col>WIFE.y</th><th scope=col>CHILDREN.y</th><th scope=col>CAR.y</th><th scope=col>RANDOM.y</th></tr></thead>\n",
       "<tbody>\n",
       "\t<tr><td>101       </td><td>TOM       </td><td>SKYLER    </td><td> 5        </td><td> 2        </td><td> 0.2807331</td><td>TOM       </td><td>SKYLER    </td><td>5         </td><td>2         </td><td>-0.7312905</td></tr>\n",
       "\t<tr><td>103       </td><td>WALTER    </td><td>JULIE     </td><td> 7        </td><td> 1        </td><td>-0.2857056</td><td>WALTER    </td><td>JULIE     </td><td>3         </td><td>1         </td><td>-0.2336189</td></tr>\n",
       "\t<tr><td>106       </td><td>NA        </td><td>NA        </td><td>NA        </td><td>NA        </td><td>        NA</td><td>BRYCE     </td><td>RACHAEL   </td><td>7         </td><td>1         </td><td>-0.7236884</td></tr>\n",
       "\t<tr><td>107       </td><td>NA        </td><td>NA        </td><td>NA        </td><td>NA        </td><td>        NA</td><td>HARRY     </td><td>OLIVIA    </td><td>5         </td><td>1         </td><td>-0.7072741</td></tr>\n",
       "\t<tr><td>108       </td><td>NA        </td><td>NA        </td><td>NA        </td><td>NA        </td><td>        NA</td><td>ROM       </td><td>SOPHIA    </td><td>6         </td><td>1         </td><td>-1.7104660</td></tr>\n",
       "</tbody>\n",
       "</table>\n"
      ],
      "text/latex": [
       "\\begin{tabular}{r|lllllllllll}\n",
       " ID & NAME.x & WIFE.x & CHILDREN.x & CAR.x & RANDOM.x & NAME.y & WIFE.y & CHILDREN.y & CAR.y & RANDOM.y\\\\\n",
       "\\hline\n",
       "\t 101        & TOM        & SKYLER     &  5         &  2         &  0.2807331 & TOM        & SKYLER     & 5          & 2          & -0.7312905\\\\\n",
       "\t 103        & WALTER     & JULIE      &  7         &  1         & -0.2857056 & WALTER     & JULIE      & 3          & 1          & -0.2336189\\\\\n",
       "\t 106        & NA         & NA         & NA         & NA         &         NA & BRYCE      & RACHAEL    & 7          & 1          & -0.7236884\\\\\n",
       "\t 107        & NA         & NA         & NA         & NA         &         NA & HARRY      & OLIVIA     & 5          & 1          & -0.7072741\\\\\n",
       "\t 108        & NA         & NA         & NA         & NA         &         NA & ROM        & SOPHIA     & 6          & 1          & -1.7104660\\\\\n",
       "\\end{tabular}\n"
      ],
      "text/markdown": [
       "\n",
       "ID | NAME.x | WIFE.x | CHILDREN.x | CAR.x | RANDOM.x | NAME.y | WIFE.y | CHILDREN.y | CAR.y | RANDOM.y | \n",
       "|---|---|---|---|---|\n",
       "| 101        | TOM        | SKYLER     |  5         |  2         |  0.2807331 | TOM        | SKYLER     | 5          | 2          | -0.7312905 | \n",
       "| 103        | WALTER     | JULIE      |  7         |  1         | -0.2857056 | WALTER     | JULIE      | 3          | 1          | -0.2336189 | \n",
       "| 106        | NA         | NA         | NA         | NA         |         NA | BRYCE      | RACHAEL    | 7          | 1          | -0.7236884 | \n",
       "| 107        | NA         | NA         | NA         | NA         |         NA | HARRY      | OLIVIA     | 5          | 1          | -0.7072741 | \n",
       "| 108        | NA         | NA         | NA         | NA         |         NA | ROM        | SOPHIA     | 6          | 1          | -1.7104660 | \n",
       "\n",
       "\n"
      ],
      "text/plain": [
       "  ID  NAME.x WIFE.x CHILDREN.x CAR.x RANDOM.x   NAME.y WIFE.y  CHILDREN.y CAR.y\n",
       "1 101 TOM    SKYLER  5          2     0.2807331 TOM    SKYLER  5          2    \n",
       "2 103 WALTER JULIE   7          1    -0.2857056 WALTER JULIE   3          1    \n",
       "3 106 NA     NA     NA         NA            NA BRYCE  RACHAEL 7          1    \n",
       "4 107 NA     NA     NA         NA            NA HARRY  OLIVIA  5          1    \n",
       "5 108 NA     NA     NA         NA            NA ROM    SOPHIA  6          1    \n",
       "  RANDOM.y  \n",
       "1 -0.7312905\n",
       "2 -0.2336189\n",
       "3 -0.7236884\n",
       "4 -0.7072741\n",
       "5 -1.7104660"
      ]
     },
     "metadata": {},
     "output_type": "display_data"
    }
   ],
   "source": [
    "right_join(data_1, data_2, by = \"ID\")"
   ]
  },
  {
   "cell_type": "code",
   "execution_count": 32,
   "metadata": {},
   "outputs": [],
   "source": [
    "#INNER JOIN"
   ]
  },
  {
   "cell_type": "code",
   "execution_count": 33,
   "metadata": {},
   "outputs": [
    {
     "data": {
      "text/html": [
       "<table>\n",
       "<thead><tr><th scope=col>ID</th><th scope=col>NAME.x</th><th scope=col>WIFE.x</th><th scope=col>CHILDREN.x</th><th scope=col>CAR.x</th><th scope=col>RANDOM.x</th><th scope=col>NAME.y</th><th scope=col>WIFE.y</th><th scope=col>CHILDREN.y</th><th scope=col>CAR.y</th><th scope=col>RANDOM.y</th></tr></thead>\n",
       "<tbody>\n",
       "\t<tr><td>101       </td><td>TOM       </td><td>SKYLER    </td><td>5         </td><td>2         </td><td> 0.2807331</td><td>TOM       </td><td>SKYLER    </td><td>5         </td><td>2         </td><td>-0.7312905</td></tr>\n",
       "\t<tr><td>103       </td><td>WALTER    </td><td>JULIE     </td><td>7         </td><td>1         </td><td>-0.2857056</td><td>WALTER    </td><td>JULIE     </td><td>3         </td><td>1         </td><td>-0.2336189</td></tr>\n",
       "</tbody>\n",
       "</table>\n"
      ],
      "text/latex": [
       "\\begin{tabular}{r|lllllllllll}\n",
       " ID & NAME.x & WIFE.x & CHILDREN.x & CAR.x & RANDOM.x & NAME.y & WIFE.y & CHILDREN.y & CAR.y & RANDOM.y\\\\\n",
       "\\hline\n",
       "\t 101        & TOM        & SKYLER     & 5          & 2          &  0.2807331 & TOM        & SKYLER     & 5          & 2          & -0.7312905\\\\\n",
       "\t 103        & WALTER     & JULIE      & 7          & 1          & -0.2857056 & WALTER     & JULIE      & 3          & 1          & -0.2336189\\\\\n",
       "\\end{tabular}\n"
      ],
      "text/markdown": [
       "\n",
       "ID | NAME.x | WIFE.x | CHILDREN.x | CAR.x | RANDOM.x | NAME.y | WIFE.y | CHILDREN.y | CAR.y | RANDOM.y | \n",
       "|---|---|\n",
       "| 101        | TOM        | SKYLER     | 5          | 2          |  0.2807331 | TOM        | SKYLER     | 5          | 2          | -0.7312905 | \n",
       "| 103        | WALTER     | JULIE      | 7          | 1          | -0.2857056 | WALTER     | JULIE      | 3          | 1          | -0.2336189 | \n",
       "\n",
       "\n"
      ],
      "text/plain": [
       "  ID  NAME.x WIFE.x CHILDREN.x CAR.x RANDOM.x   NAME.y WIFE.y CHILDREN.y CAR.y\n",
       "1 101 TOM    SKYLER 5          2      0.2807331 TOM    SKYLER 5          2    \n",
       "2 103 WALTER JULIE  7          1     -0.2857056 WALTER JULIE  3          1    \n",
       "  RANDOM.y  \n",
       "1 -0.7312905\n",
       "2 -0.2336189"
      ]
     },
     "metadata": {},
     "output_type": "display_data"
    }
   ],
   "source": [
    "inner_join(data_1, data_2, by = \"ID\")"
   ]
  },
  {
   "cell_type": "code",
   "execution_count": 34,
   "metadata": {},
   "outputs": [],
   "source": [
    "# FULL JOIN"
   ]
  },
  {
   "cell_type": "code",
   "execution_count": 35,
   "metadata": {},
   "outputs": [
    {
     "data": {
      "text/html": [
       "<table>\n",
       "<thead><tr><th scope=col>ID</th><th scope=col>NAME.x</th><th scope=col>WIFE.x</th><th scope=col>CHILDREN.x</th><th scope=col>CAR.x</th><th scope=col>RANDOM.x</th><th scope=col>NAME.y</th><th scope=col>WIFE.y</th><th scope=col>CHILDREN.y</th><th scope=col>CAR.y</th><th scope=col>RANDOM.y</th></tr></thead>\n",
       "<tbody>\n",
       "\t<tr><td>101       </td><td>TOM       </td><td>SKYLER    </td><td> 5        </td><td> 2        </td><td> 0.2807331</td><td>TOM       </td><td>SKYLER    </td><td> 5        </td><td> 2        </td><td>-0.7312905</td></tr>\n",
       "\t<tr><td>102       </td><td>CHRIS     </td><td>MAGGIE    </td><td> 2        </td><td> 2        </td><td> 1.4799607</td><td>NA        </td><td>NA        </td><td>NA        </td><td>NA        </td><td>        NA</td></tr>\n",
       "\t<tr><td>103       </td><td>WALTER    </td><td>JULIE     </td><td> 7        </td><td> 1        </td><td>-0.2857056</td><td>WALTER    </td><td>JULIE     </td><td> 3        </td><td> 1        </td><td>-0.2336189</td></tr>\n",
       "\t<tr><td>104       </td><td>JESSE     </td><td>SCOTTIE   </td><td> 1        </td><td> 2        </td><td>-0.3089356</td><td>NA        </td><td>NA        </td><td>NA        </td><td>NA        </td><td>        NA</td></tr>\n",
       "\t<tr><td>105       </td><td>FREDDY    </td><td>MEGHAN    </td><td> 3        </td><td> 2        </td><td>-2.5385769</td><td>NA        </td><td>NA        </td><td>NA        </td><td>NA        </td><td>        NA</td></tr>\n",
       "\t<tr><td>106       </td><td>NA        </td><td>NA        </td><td>NA        </td><td>NA        </td><td>        NA</td><td>BRYCE     </td><td>RACHAEL   </td><td> 7        </td><td> 1        </td><td>-0.7236884</td></tr>\n",
       "\t<tr><td>107       </td><td>NA        </td><td>NA        </td><td>NA        </td><td>NA        </td><td>        NA</td><td>HARRY     </td><td>OLIVIA    </td><td> 5        </td><td> 1        </td><td>-0.7072741</td></tr>\n",
       "\t<tr><td>108       </td><td>NA        </td><td>NA        </td><td>NA        </td><td>NA        </td><td>        NA</td><td>ROM       </td><td>SOPHIA    </td><td> 6        </td><td> 1        </td><td>-1.7104660</td></tr>\n",
       "</tbody>\n",
       "</table>\n"
      ],
      "text/latex": [
       "\\begin{tabular}{r|lllllllllll}\n",
       " ID & NAME.x & WIFE.x & CHILDREN.x & CAR.x & RANDOM.x & NAME.y & WIFE.y & CHILDREN.y & CAR.y & RANDOM.y\\\\\n",
       "\\hline\n",
       "\t 101        & TOM        & SKYLER     &  5         &  2         &  0.2807331 & TOM        & SKYLER     &  5         &  2         & -0.7312905\\\\\n",
       "\t 102        & CHRIS      & MAGGIE     &  2         &  2         &  1.4799607 & NA         & NA         & NA         & NA         &         NA\\\\\n",
       "\t 103        & WALTER     & JULIE      &  7         &  1         & -0.2857056 & WALTER     & JULIE      &  3         &  1         & -0.2336189\\\\\n",
       "\t 104        & JESSE      & SCOTTIE    &  1         &  2         & -0.3089356 & NA         & NA         & NA         & NA         &         NA\\\\\n",
       "\t 105        & FREDDY     & MEGHAN     &  3         &  2         & -2.5385769 & NA         & NA         & NA         & NA         &         NA\\\\\n",
       "\t 106        & NA         & NA         & NA         & NA         &         NA & BRYCE      & RACHAEL    &  7         &  1         & -0.7236884\\\\\n",
       "\t 107        & NA         & NA         & NA         & NA         &         NA & HARRY      & OLIVIA     &  5         &  1         & -0.7072741\\\\\n",
       "\t 108        & NA         & NA         & NA         & NA         &         NA & ROM        & SOPHIA     &  6         &  1         & -1.7104660\\\\\n",
       "\\end{tabular}\n"
      ],
      "text/markdown": [
       "\n",
       "ID | NAME.x | WIFE.x | CHILDREN.x | CAR.x | RANDOM.x | NAME.y | WIFE.y | CHILDREN.y | CAR.y | RANDOM.y | \n",
       "|---|---|---|---|---|---|---|---|\n",
       "| 101        | TOM        | SKYLER     |  5         |  2         |  0.2807331 | TOM        | SKYLER     |  5         |  2         | -0.7312905 | \n",
       "| 102        | CHRIS      | MAGGIE     |  2         |  2         |  1.4799607 | NA         | NA         | NA         | NA         |         NA | \n",
       "| 103        | WALTER     | JULIE      |  7         |  1         | -0.2857056 | WALTER     | JULIE      |  3         |  1         | -0.2336189 | \n",
       "| 104        | JESSE      | SCOTTIE    |  1         |  2         | -0.3089356 | NA         | NA         | NA         | NA         |         NA | \n",
       "| 105        | FREDDY     | MEGHAN     |  3         |  2         | -2.5385769 | NA         | NA         | NA         | NA         |         NA | \n",
       "| 106        | NA         | NA         | NA         | NA         |         NA | BRYCE      | RACHAEL    |  7         |  1         | -0.7236884 | \n",
       "| 107        | NA         | NA         | NA         | NA         |         NA | HARRY      | OLIVIA     |  5         |  1         | -0.7072741 | \n",
       "| 108        | NA         | NA         | NA         | NA         |         NA | ROM        | SOPHIA     |  6         |  1         | -1.7104660 | \n",
       "\n",
       "\n"
      ],
      "text/plain": [
       "  ID  NAME.x WIFE.x  CHILDREN.x CAR.x RANDOM.x   NAME.y WIFE.y  CHILDREN.y\n",
       "1 101 TOM    SKYLER   5          2     0.2807331 TOM    SKYLER   5        \n",
       "2 102 CHRIS  MAGGIE   2          2     1.4799607 NA     NA      NA        \n",
       "3 103 WALTER JULIE    7          1    -0.2857056 WALTER JULIE    3        \n",
       "4 104 JESSE  SCOTTIE  1          2    -0.3089356 NA     NA      NA        \n",
       "5 105 FREDDY MEGHAN   3          2    -2.5385769 NA     NA      NA        \n",
       "6 106 NA     NA      NA         NA            NA BRYCE  RACHAEL  7        \n",
       "7 107 NA     NA      NA         NA            NA HARRY  OLIVIA   5        \n",
       "8 108 NA     NA      NA         NA            NA ROM    SOPHIA   6        \n",
       "  CAR.y RANDOM.y  \n",
       "1  2    -0.7312905\n",
       "2 NA            NA\n",
       "3  1    -0.2336189\n",
       "4 NA            NA\n",
       "5 NA            NA\n",
       "6  1    -0.7236884\n",
       "7  1    -0.7072741\n",
       "8  1    -1.7104660"
      ]
     },
     "metadata": {},
     "output_type": "display_data"
    }
   ],
   "source": [
    "full_join(data_1, data_2, by = \"ID\")"
   ]
  },
  {
   "cell_type": "code",
   "execution_count": 36,
   "metadata": {},
   "outputs": [],
   "source": [
    "# SEMI JOIN"
   ]
  },
  {
   "cell_type": "code",
   "execution_count": 37,
   "metadata": {},
   "outputs": [
    {
     "data": {
      "text/html": [
       "<table>\n",
       "<thead><tr><th scope=col>ID</th><th scope=col>NAME</th><th scope=col>WIFE</th><th scope=col>CHILDREN</th><th scope=col>CAR</th><th scope=col>RANDOM</th></tr></thead>\n",
       "<tbody>\n",
       "\t<tr><td>101       </td><td>TOM       </td><td>SKYLER    </td><td>5         </td><td>2         </td><td> 0.2807331</td></tr>\n",
       "\t<tr><td>103       </td><td>WALTER    </td><td>JULIE     </td><td>7         </td><td>1         </td><td>-0.2857056</td></tr>\n",
       "</tbody>\n",
       "</table>\n"
      ],
      "text/latex": [
       "\\begin{tabular}{r|llllll}\n",
       " ID & NAME & WIFE & CHILDREN & CAR & RANDOM\\\\\n",
       "\\hline\n",
       "\t 101        & TOM        & SKYLER     & 5          & 2          &  0.2807331\\\\\n",
       "\t 103        & WALTER     & JULIE      & 7          & 1          & -0.2857056\\\\\n",
       "\\end{tabular}\n"
      ],
      "text/markdown": [
       "\n",
       "ID | NAME | WIFE | CHILDREN | CAR | RANDOM | \n",
       "|---|---|\n",
       "| 101        | TOM        | SKYLER     | 5          | 2          |  0.2807331 | \n",
       "| 103        | WALTER     | JULIE      | 7          | 1          | -0.2857056 | \n",
       "\n",
       "\n"
      ],
      "text/plain": [
       "  ID  NAME   WIFE   CHILDREN CAR RANDOM    \n",
       "1 101 TOM    SKYLER 5        2    0.2807331\n",
       "2 103 WALTER JULIE  7        1   -0.2857056"
      ]
     },
     "metadata": {},
     "output_type": "display_data"
    }
   ],
   "source": [
    "semi_join(data_1, data_2, by = \"ID\")"
   ]
  },
  {
   "cell_type": "code",
   "execution_count": 38,
   "metadata": {},
   "outputs": [],
   "source": [
    "# ANTI JOIN"
   ]
  },
  {
   "cell_type": "code",
   "execution_count": 39,
   "metadata": {},
   "outputs": [
    {
     "data": {
      "text/html": [
       "<table>\n",
       "<thead><tr><th scope=col>ID</th><th scope=col>NAME</th><th scope=col>WIFE</th><th scope=col>CHILDREN</th><th scope=col>CAR</th><th scope=col>RANDOM</th></tr></thead>\n",
       "<tbody>\n",
       "\t<tr><td>102       </td><td>CHRIS     </td><td>MAGGIE    </td><td>2         </td><td>2         </td><td> 1.4799607</td></tr>\n",
       "\t<tr><td>104       </td><td>JESSE     </td><td>SCOTTIE   </td><td>1         </td><td>2         </td><td>-0.3089356</td></tr>\n",
       "\t<tr><td>105       </td><td>FREDDY    </td><td>MEGHAN    </td><td>3         </td><td>2         </td><td>-2.5385769</td></tr>\n",
       "</tbody>\n",
       "</table>\n"
      ],
      "text/latex": [
       "\\begin{tabular}{r|llllll}\n",
       " ID & NAME & WIFE & CHILDREN & CAR & RANDOM\\\\\n",
       "\\hline\n",
       "\t 102        & CHRIS      & MAGGIE     & 2          & 2          &  1.4799607\\\\\n",
       "\t 104        & JESSE      & SCOTTIE    & 1          & 2          & -0.3089356\\\\\n",
       "\t 105        & FREDDY     & MEGHAN     & 3          & 2          & -2.5385769\\\\\n",
       "\\end{tabular}\n"
      ],
      "text/markdown": [
       "\n",
       "ID | NAME | WIFE | CHILDREN | CAR | RANDOM | \n",
       "|---|---|---|\n",
       "| 102        | CHRIS      | MAGGIE     | 2          | 2          |  1.4799607 | \n",
       "| 104        | JESSE      | SCOTTIE    | 1          | 2          | -0.3089356 | \n",
       "| 105        | FREDDY     | MEGHAN     | 3          | 2          | -2.5385769 | \n",
       "\n",
       "\n"
      ],
      "text/plain": [
       "  ID  NAME   WIFE    CHILDREN CAR RANDOM    \n",
       "1 102 CHRIS  MAGGIE  2        2    1.4799607\n",
       "2 104 JESSE  SCOTTIE 1        2   -0.3089356\n",
       "3 105 FREDDY MEGHAN  3        2   -2.5385769"
      ]
     },
     "metadata": {},
     "output_type": "display_data"
    }
   ],
   "source": [
    "anti_join(data_1, data_2, by = \"ID\")"
   ]
  },
  {
   "cell_type": "code",
   "execution_count": 40,
   "metadata": {},
   "outputs": [],
   "source": [
    " # union"
   ]
  },
  {
   "cell_type": "code",
   "execution_count": 41,
   "metadata": {},
   "outputs": [
    {
     "name": "stderr",
     "output_type": "stream",
     "text": [
      "Warning message:\n",
      "\"Column `NAME` joining factors with different levels, coercing to character vector\"Warning message:\n",
      "\"Column `WIFE` joining factors with different levels, coercing to character vector\""
     ]
    },
    {
     "data": {
      "text/html": [
       "<table>\n",
       "<thead><tr><th scope=col>ID</th><th scope=col>NAME</th><th scope=col>WIFE</th><th scope=col>CHILDREN</th><th scope=col>CAR</th><th scope=col>RANDOM</th></tr></thead>\n",
       "<tbody>\n",
       "\t<tr><td>106       </td><td>BRYCE     </td><td>RACHAEL   </td><td>7         </td><td>1         </td><td>-0.7236884</td></tr>\n",
       "\t<tr><td>108       </td><td>ROM       </td><td>SOPHIA    </td><td>6         </td><td>1         </td><td>-1.7104660</td></tr>\n",
       "\t<tr><td>103       </td><td>WALTER    </td><td>JULIE     </td><td>7         </td><td>1         </td><td>-0.2857056</td></tr>\n",
       "\t<tr><td>103       </td><td>WALTER    </td><td>JULIE     </td><td>3         </td><td>1         </td><td>-0.2336189</td></tr>\n",
       "\t<tr><td>101       </td><td>TOM       </td><td>SKYLER    </td><td>5         </td><td>2         </td><td> 0.2807331</td></tr>\n",
       "\t<tr><td>104       </td><td>JESSE     </td><td>SCOTTIE   </td><td>1         </td><td>2         </td><td>-0.3089356</td></tr>\n",
       "\t<tr><td>105       </td><td>FREDDY    </td><td>MEGHAN    </td><td>3         </td><td>2         </td><td>-2.5385769</td></tr>\n",
       "\t<tr><td>101       </td><td>TOM       </td><td>SKYLER    </td><td>5         </td><td>2         </td><td>-0.7312905</td></tr>\n",
       "\t<tr><td>107       </td><td>HARRY     </td><td>OLIVIA    </td><td>5         </td><td>1         </td><td>-0.7072741</td></tr>\n",
       "\t<tr><td>102       </td><td>CHRIS     </td><td>MAGGIE    </td><td>2         </td><td>2         </td><td> 1.4799607</td></tr>\n",
       "</tbody>\n",
       "</table>\n"
      ],
      "text/latex": [
       "\\begin{tabular}{r|llllll}\n",
       " ID & NAME & WIFE & CHILDREN & CAR & RANDOM\\\\\n",
       "\\hline\n",
       "\t 106        & BRYCE      & RACHAEL    & 7          & 1          & -0.7236884\\\\\n",
       "\t 108        & ROM        & SOPHIA     & 6          & 1          & -1.7104660\\\\\n",
       "\t 103        & WALTER     & JULIE      & 7          & 1          & -0.2857056\\\\\n",
       "\t 103        & WALTER     & JULIE      & 3          & 1          & -0.2336189\\\\\n",
       "\t 101        & TOM        & SKYLER     & 5          & 2          &  0.2807331\\\\\n",
       "\t 104        & JESSE      & SCOTTIE    & 1          & 2          & -0.3089356\\\\\n",
       "\t 105        & FREDDY     & MEGHAN     & 3          & 2          & -2.5385769\\\\\n",
       "\t 101        & TOM        & SKYLER     & 5          & 2          & -0.7312905\\\\\n",
       "\t 107        & HARRY      & OLIVIA     & 5          & 1          & -0.7072741\\\\\n",
       "\t 102        & CHRIS      & MAGGIE     & 2          & 2          &  1.4799607\\\\\n",
       "\\end{tabular}\n"
      ],
      "text/markdown": [
       "\n",
       "ID | NAME | WIFE | CHILDREN | CAR | RANDOM | \n",
       "|---|---|---|---|---|---|---|---|---|---|\n",
       "| 106        | BRYCE      | RACHAEL    | 7          | 1          | -0.7236884 | \n",
       "| 108        | ROM        | SOPHIA     | 6          | 1          | -1.7104660 | \n",
       "| 103        | WALTER     | JULIE      | 7          | 1          | -0.2857056 | \n",
       "| 103        | WALTER     | JULIE      | 3          | 1          | -0.2336189 | \n",
       "| 101        | TOM        | SKYLER     | 5          | 2          |  0.2807331 | \n",
       "| 104        | JESSE      | SCOTTIE    | 1          | 2          | -0.3089356 | \n",
       "| 105        | FREDDY     | MEGHAN     | 3          | 2          | -2.5385769 | \n",
       "| 101        | TOM        | SKYLER     | 5          | 2          | -0.7312905 | \n",
       "| 107        | HARRY      | OLIVIA     | 5          | 1          | -0.7072741 | \n",
       "| 102        | CHRIS      | MAGGIE     | 2          | 2          |  1.4799607 | \n",
       "\n",
       "\n"
      ],
      "text/plain": [
       "   ID  NAME   WIFE    CHILDREN CAR RANDOM    \n",
       "1  106 BRYCE  RACHAEL 7        1   -0.7236884\n",
       "2  108 ROM    SOPHIA  6        1   -1.7104660\n",
       "3  103 WALTER JULIE   7        1   -0.2857056\n",
       "4  103 WALTER JULIE   3        1   -0.2336189\n",
       "5  101 TOM    SKYLER  5        2    0.2807331\n",
       "6  104 JESSE  SCOTTIE 1        2   -0.3089356\n",
       "7  105 FREDDY MEGHAN  3        2   -2.5385769\n",
       "8  101 TOM    SKYLER  5        2   -0.7312905\n",
       "9  107 HARRY  OLIVIA  5        1   -0.7072741\n",
       "10 102 CHRIS  MAGGIE  2        2    1.4799607"
      ]
     },
     "metadata": {},
     "output_type": "display_data"
    }
   ],
   "source": [
    "union(data_1, data_2)"
   ]
  },
  {
   "cell_type": "code",
   "execution_count": 42,
   "metadata": {},
   "outputs": [],
   "source": [
    "# UNION ALL FUNCTION"
   ]
  },
  {
   "cell_type": "code",
   "execution_count": 43,
   "metadata": {},
   "outputs": [
    {
     "name": "stderr",
     "output_type": "stream",
     "text": [
      "Warning message in bind_rows_(x, .id):\n",
      "\"Unequal factor levels: coercing to character\"Warning message in bind_rows_(x, .id):\n",
      "\"binding character and factor vector, coercing into character vector\"Warning message in bind_rows_(x, .id):\n",
      "\"binding character and factor vector, coercing into character vector\"Warning message in bind_rows_(x, .id):\n",
      "\"Unequal factor levels: coercing to character\"Warning message in bind_rows_(x, .id):\n",
      "\"binding character and factor vector, coercing into character vector\"Warning message in bind_rows_(x, .id):\n",
      "\"binding character and factor vector, coercing into character vector\""
     ]
    },
    {
     "data": {
      "text/html": [
       "<table>\n",
       "<thead><tr><th scope=col>ID</th><th scope=col>NAME</th><th scope=col>WIFE</th><th scope=col>CHILDREN</th><th scope=col>CAR</th><th scope=col>RANDOM</th></tr></thead>\n",
       "<tbody>\n",
       "\t<tr><td>101       </td><td>TOM       </td><td>SKYLER    </td><td>5         </td><td>2         </td><td> 0.2807331</td></tr>\n",
       "\t<tr><td>102       </td><td>CHRIS     </td><td>MAGGIE    </td><td>2         </td><td>2         </td><td> 1.4799607</td></tr>\n",
       "\t<tr><td>103       </td><td>WALTER    </td><td>JULIE     </td><td>7         </td><td>1         </td><td>-0.2857056</td></tr>\n",
       "\t<tr><td>104       </td><td>JESSE     </td><td>SCOTTIE   </td><td>1         </td><td>2         </td><td>-0.3089356</td></tr>\n",
       "\t<tr><td>105       </td><td>FREDDY    </td><td>MEGHAN    </td><td>3         </td><td>2         </td><td>-2.5385769</td></tr>\n",
       "\t<tr><td>101       </td><td>TOM       </td><td>SKYLER    </td><td>5         </td><td>2         </td><td>-0.7312905</td></tr>\n",
       "\t<tr><td>103       </td><td>WALTER    </td><td>JULIE     </td><td>3         </td><td>1         </td><td>-0.2336189</td></tr>\n",
       "\t<tr><td>106       </td><td>BRYCE     </td><td>RACHAEL   </td><td>7         </td><td>1         </td><td>-0.7236884</td></tr>\n",
       "\t<tr><td>107       </td><td>HARRY     </td><td>OLIVIA    </td><td>5         </td><td>1         </td><td>-0.7072741</td></tr>\n",
       "\t<tr><td>108       </td><td>ROM       </td><td>SOPHIA    </td><td>6         </td><td>1         </td><td>-1.7104660</td></tr>\n",
       "</tbody>\n",
       "</table>\n"
      ],
      "text/latex": [
       "\\begin{tabular}{r|llllll}\n",
       " ID & NAME & WIFE & CHILDREN & CAR & RANDOM\\\\\n",
       "\\hline\n",
       "\t 101        & TOM        & SKYLER     & 5          & 2          &  0.2807331\\\\\n",
       "\t 102        & CHRIS      & MAGGIE     & 2          & 2          &  1.4799607\\\\\n",
       "\t 103        & WALTER     & JULIE      & 7          & 1          & -0.2857056\\\\\n",
       "\t 104        & JESSE      & SCOTTIE    & 1          & 2          & -0.3089356\\\\\n",
       "\t 105        & FREDDY     & MEGHAN     & 3          & 2          & -2.5385769\\\\\n",
       "\t 101        & TOM        & SKYLER     & 5          & 2          & -0.7312905\\\\\n",
       "\t 103        & WALTER     & JULIE      & 3          & 1          & -0.2336189\\\\\n",
       "\t 106        & BRYCE      & RACHAEL    & 7          & 1          & -0.7236884\\\\\n",
       "\t 107        & HARRY      & OLIVIA     & 5          & 1          & -0.7072741\\\\\n",
       "\t 108        & ROM        & SOPHIA     & 6          & 1          & -1.7104660\\\\\n",
       "\\end{tabular}\n"
      ],
      "text/markdown": [
       "\n",
       "ID | NAME | WIFE | CHILDREN | CAR | RANDOM | \n",
       "|---|---|---|---|---|---|---|---|---|---|\n",
       "| 101        | TOM        | SKYLER     | 5          | 2          |  0.2807331 | \n",
       "| 102        | CHRIS      | MAGGIE     | 2          | 2          |  1.4799607 | \n",
       "| 103        | WALTER     | JULIE      | 7          | 1          | -0.2857056 | \n",
       "| 104        | JESSE      | SCOTTIE    | 1          | 2          | -0.3089356 | \n",
       "| 105        | FREDDY     | MEGHAN     | 3          | 2          | -2.5385769 | \n",
       "| 101        | TOM        | SKYLER     | 5          | 2          | -0.7312905 | \n",
       "| 103        | WALTER     | JULIE      | 3          | 1          | -0.2336189 | \n",
       "| 106        | BRYCE      | RACHAEL    | 7          | 1          | -0.7236884 | \n",
       "| 107        | HARRY      | OLIVIA     | 5          | 1          | -0.7072741 | \n",
       "| 108        | ROM        | SOPHIA     | 6          | 1          | -1.7104660 | \n",
       "\n",
       "\n"
      ],
      "text/plain": [
       "   ID  NAME   WIFE    CHILDREN CAR RANDOM    \n",
       "1  101 TOM    SKYLER  5        2    0.2807331\n",
       "2  102 CHRIS  MAGGIE  2        2    1.4799607\n",
       "3  103 WALTER JULIE   7        1   -0.2857056\n",
       "4  104 JESSE  SCOTTIE 1        2   -0.3089356\n",
       "5  105 FREDDY MEGHAN  3        2   -2.5385769\n",
       "6  101 TOM    SKYLER  5        2   -0.7312905\n",
       "7  103 WALTER JULIE   3        1   -0.2336189\n",
       "8  106 BRYCE  RACHAEL 7        1   -0.7236884\n",
       "9  107 HARRY  OLIVIA  5        1   -0.7072741\n",
       "10 108 ROM    SOPHIA  6        1   -1.7104660"
      ]
     },
     "metadata": {},
     "output_type": "display_data"
    }
   ],
   "source": [
    "union_all(data_1, data_2)"
   ]
  },
  {
   "cell_type": "code",
   "execution_count": 44,
   "metadata": {},
   "outputs": [],
   "source": [
    "# intersection"
   ]
  },
  {
   "cell_type": "code",
   "execution_count": 45,
   "metadata": {},
   "outputs": [
    {
     "name": "stderr",
     "output_type": "stream",
     "text": [
      "Warning message:\n",
      "\"Column `NAME` joining factors with different levels, coercing to character vector\"Warning message:\n",
      "\"Column `WIFE` joining factors with different levels, coercing to character vector\""
     ]
    },
    {
     "data": {
      "text/html": [
       "<table>\n",
       "<thead><tr><th scope=col>ID</th><th scope=col>NAME</th><th scope=col>WIFE</th><th scope=col>CHILDREN</th><th scope=col>CAR</th><th scope=col>RANDOM</th></tr></thead>\n",
       "<tbody>\n",
       "</tbody>\n",
       "</table>\n"
      ],
      "text/latex": [
       "\\begin{tabular}{r|llllll}\n",
       " ID & NAME & WIFE & CHILDREN & CAR & RANDOM\\\\\n",
       "\\hline\n",
       "\\end{tabular}\n"
      ],
      "text/markdown": [
       "\n",
       "ID | NAME | WIFE | CHILDREN | CAR | RANDOM | \n",
       "||\n",
       "\n",
       "\n"
      ],
      "text/plain": [
       "     ID NAME WIFE CHILDREN CAR RANDOM"
      ]
     },
     "metadata": {},
     "output_type": "display_data"
    }
   ],
   "source": [
    "intersect(data_1, data_2)"
   ]
  },
  {
   "cell_type": "code",
   "execution_count": null,
   "metadata": {},
   "outputs": [],
   "source": []
  }
 ],
 "metadata": {
  "kernelspec": {
   "display_name": "R",
   "language": "R",
   "name": "ir"
  },
  "language_info": {
   "codemirror_mode": "r",
   "file_extension": ".r",
   "mimetype": "text/x-r-source",
   "name": "R",
   "pygments_lexer": "r",
   "version": "3.5.1"
  }
 },
 "nbformat": 4,
 "nbformat_minor": 2
}
